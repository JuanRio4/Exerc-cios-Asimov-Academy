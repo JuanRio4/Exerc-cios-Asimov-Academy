{
  "cells": [
    {
      "cell_type": "markdown",
      "id": "eb29fb7a-5c3a-46df-a5f9-627148c66351",
      "metadata": {
        "id": "eb29fb7a-5c3a-46df-a5f9-627148c66351"
      },
      "source": [
        "## Exercícios"
      ]
    },
    {
      "cell_type": "markdown",
      "id": "ad2f7eba-5091-4fec-b113-487186883a09",
      "metadata": {
        "id": "ad2f7eba-5091-4fec-b113-487186883a09"
      },
      "source": [
        "Link para Dataset: https://www.kaggle.com/datasets/matheusfreitag/gas-prices-in-brazil"
      ]
    },
    {
      "cell_type": "code",
      "execution_count": 1,
      "id": "d0e9c6b9-3840-47a5-956f-9954b612c657",
      "metadata": {
        "id": "d0e9c6b9-3840-47a5-956f-9954b612c657"
      },
      "outputs": [],
      "source": [
        "import pandas as pd"
      ]
    },
    {
      "cell_type": "markdown",
      "id": "76366baf-6608-4ad2-b14b-ff048e5adb90",
      "metadata": {
        "id": "76366baf-6608-4ad2-b14b-ff048e5adb90"
      },
      "source": [
        "## Neste projeto, trabalharemos com dois arquivos csvs separados, contendo informações sobre o preço da gasolina no Brasil.\n",
        "\n",
        "### 1. Carregue os conjuntos de dados \"gasolina_2000+.csv\" e \"gasolina_2010+.csv\" em dois DataFrames diferentes e combine-os em um único DataFrame."
      ]
    },
    {
      "cell_type": "code",
      "execution_count": 2,
      "id": "c7decfae-2c39-48fb-8412-6dd2e789f28e",
      "metadata": {
        "colab": {
          "base_uri": "https://localhost:8080/"
        },
        "id": "c7decfae-2c39-48fb-8412-6dd2e789f28e",
        "outputId": "886cd536-f5d9-4f0c-928a-d2948a1d25de"
      },
      "outputs": [
        {
          "output_type": "stream",
          "name": "stderr",
          "text": [
            "<ipython-input-2-00d0ea8ce438>:3: DtypeWarning: Columns (12,14,15,16,17,18) have mixed types. Specify dtype option on import or set low_memory=False.\n",
            "  dfgas10= pd.read_csv('/content/gasolina_2010+.csv',index_col=0)\n"
          ]
        }
      ],
      "source": [
        "dfgas00= pd.read_csv('/content/gasolina_2000+.csv',index_col=0)\n",
        "\n",
        "dfgas10= pd.read_csv('/content/gasolina_2010+.csv',index_col=0)\n",
        "\n",
        "df=pd.concat([dfgas00,dfgas10])"
      ]
    },
    {
      "cell_type": "markdown",
      "id": "6cd74f39-565b-47ea-9171-9679eb964b1c",
      "metadata": {
        "id": "6cd74f39-565b-47ea-9171-9679eb964b1c"
      },
      "source": [
        "### 2.Investigue as colunas e entenda o conjunto de dados usando o head() e info()"
      ]
    },
    {
      "cell_type": "code",
      "execution_count": 3,
      "id": "079e63b5-4836-4332-86ee-11c804543571",
      "metadata": {
        "id": "079e63b5-4836-4332-86ee-11c804543571",
        "colab": {
          "base_uri": "https://localhost:8080/",
          "height": 365
        },
        "outputId": "af8dc784-8909-4898-d093-c4f3b9597603"
      },
      "outputs": [
        {
          "output_type": "execute_result",
          "data": {
            "text/plain": [
              "  DATA INICIAL  DATA FINAL        REGIÃO              ESTADO  \\\n",
              "0   2004-05-09  2004-05-15  CENTRO OESTE    DISTRITO FEDERAL   \n",
              "1   2004-05-09  2004-05-15  CENTRO OESTE               GOIAS   \n",
              "2   2004-05-09  2004-05-15  CENTRO OESTE         MATO GROSSO   \n",
              "3   2004-05-09  2004-05-15  CENTRO OESTE  MATO GROSSO DO SUL   \n",
              "4   2004-05-09  2004-05-15      NORDESTE             ALAGOAS   \n",
              "\n",
              "            PRODUTO  NÚMERO DE POSTOS PESQUISADOS UNIDADE DE MEDIDA  \\\n",
              "0  ETANOL HIDRATADO                           127              R$/l   \n",
              "1  ETANOL HIDRATADO                           387              R$/l   \n",
              "2  ETANOL HIDRATADO                           192              R$/l   \n",
              "3  ETANOL HIDRATADO                           162              R$/l   \n",
              "4  ETANOL HIDRATADO                           103              R$/l   \n",
              "\n",
              "   PREÇO MÉDIO REVENDA  DESVIO PADRÃO REVENDA  PREÇO MÍNIMO REVENDA  \\\n",
              "0                1.288                  0.016                  1.19   \n",
              "1                1.162                  0.114                  0.89   \n",
              "2                1.389                  0.097                  1.18   \n",
              "3                1.262                  0.070                  1.09   \n",
              "4                1.181                  0.078                  1.05   \n",
              "\n",
              "   PREÇO MÁXIMO REVENDA MARGEM MÉDIA REVENDA  COEF DE VARIAÇÃO REVENDA  \\\n",
              "0                 1.350                0.463                     0.012   \n",
              "1                 1.449                0.399                     0.098   \n",
              "2                 1.760                0.419                     0.070   \n",
              "3                 1.509                0.432                     0.055   \n",
              "4                 1.400                 0.24                     0.066   \n",
              "\n",
              "  PREÇO MÉDIO DISTRIBUIÇÃO DESVIO PADRÃO DISTRIBUIÇÃO  \\\n",
              "0                    0.825                       0.11   \n",
              "1                    0.763                      0.088   \n",
              "2                     0.97                      0.095   \n",
              "3                     0.83                      0.119   \n",
              "4                    0.941                      0.077   \n",
              "\n",
              "  PREÇO MÍNIMO DISTRIBUIÇÃO PREÇO MÁXIMO DISTRIBUIÇÃO  \\\n",
              "0                    0.4201                    0.9666   \n",
              "1                    0.5013                      1.05   \n",
              "2                    0.5614                     1.161   \n",
              "3                    0.5991                   1.22242   \n",
              "4                    0.7441                    1.0317   \n",
              "\n",
              "  COEF DE VARIAÇÃO DISTRIBUIÇÃO  \n",
              "0                         0.133  \n",
              "1                         0.115  \n",
              "2                         0.098  \n",
              "3                         0.143  \n",
              "4                         0.082  "
            ],
            "text/html": [
              "\n",
              "  <div id=\"df-0961f34f-c7e7-4a99-9cd2-a68903f7a3dc\" class=\"colab-df-container\">\n",
              "    <div>\n",
              "<style scoped>\n",
              "    .dataframe tbody tr th:only-of-type {\n",
              "        vertical-align: middle;\n",
              "    }\n",
              "\n",
              "    .dataframe tbody tr th {\n",
              "        vertical-align: top;\n",
              "    }\n",
              "\n",
              "    .dataframe thead th {\n",
              "        text-align: right;\n",
              "    }\n",
              "</style>\n",
              "<table border=\"1\" class=\"dataframe\">\n",
              "  <thead>\n",
              "    <tr style=\"text-align: right;\">\n",
              "      <th></th>\n",
              "      <th>DATA INICIAL</th>\n",
              "      <th>DATA FINAL</th>\n",
              "      <th>REGIÃO</th>\n",
              "      <th>ESTADO</th>\n",
              "      <th>PRODUTO</th>\n",
              "      <th>NÚMERO DE POSTOS PESQUISADOS</th>\n",
              "      <th>UNIDADE DE MEDIDA</th>\n",
              "      <th>PREÇO MÉDIO REVENDA</th>\n",
              "      <th>DESVIO PADRÃO REVENDA</th>\n",
              "      <th>PREÇO MÍNIMO REVENDA</th>\n",
              "      <th>PREÇO MÁXIMO REVENDA</th>\n",
              "      <th>MARGEM MÉDIA REVENDA</th>\n",
              "      <th>COEF DE VARIAÇÃO REVENDA</th>\n",
              "      <th>PREÇO MÉDIO DISTRIBUIÇÃO</th>\n",
              "      <th>DESVIO PADRÃO DISTRIBUIÇÃO</th>\n",
              "      <th>PREÇO MÍNIMO DISTRIBUIÇÃO</th>\n",
              "      <th>PREÇO MÁXIMO DISTRIBUIÇÃO</th>\n",
              "      <th>COEF DE VARIAÇÃO DISTRIBUIÇÃO</th>\n",
              "    </tr>\n",
              "  </thead>\n",
              "  <tbody>\n",
              "    <tr>\n",
              "      <th>0</th>\n",
              "      <td>2004-05-09</td>\n",
              "      <td>2004-05-15</td>\n",
              "      <td>CENTRO OESTE</td>\n",
              "      <td>DISTRITO FEDERAL</td>\n",
              "      <td>ETANOL HIDRATADO</td>\n",
              "      <td>127</td>\n",
              "      <td>R$/l</td>\n",
              "      <td>1.288</td>\n",
              "      <td>0.016</td>\n",
              "      <td>1.19</td>\n",
              "      <td>1.350</td>\n",
              "      <td>0.463</td>\n",
              "      <td>0.012</td>\n",
              "      <td>0.825</td>\n",
              "      <td>0.11</td>\n",
              "      <td>0.4201</td>\n",
              "      <td>0.9666</td>\n",
              "      <td>0.133</td>\n",
              "    </tr>\n",
              "    <tr>\n",
              "      <th>1</th>\n",
              "      <td>2004-05-09</td>\n",
              "      <td>2004-05-15</td>\n",
              "      <td>CENTRO OESTE</td>\n",
              "      <td>GOIAS</td>\n",
              "      <td>ETANOL HIDRATADO</td>\n",
              "      <td>387</td>\n",
              "      <td>R$/l</td>\n",
              "      <td>1.162</td>\n",
              "      <td>0.114</td>\n",
              "      <td>0.89</td>\n",
              "      <td>1.449</td>\n",
              "      <td>0.399</td>\n",
              "      <td>0.098</td>\n",
              "      <td>0.763</td>\n",
              "      <td>0.088</td>\n",
              "      <td>0.5013</td>\n",
              "      <td>1.05</td>\n",
              "      <td>0.115</td>\n",
              "    </tr>\n",
              "    <tr>\n",
              "      <th>2</th>\n",
              "      <td>2004-05-09</td>\n",
              "      <td>2004-05-15</td>\n",
              "      <td>CENTRO OESTE</td>\n",
              "      <td>MATO GROSSO</td>\n",
              "      <td>ETANOL HIDRATADO</td>\n",
              "      <td>192</td>\n",
              "      <td>R$/l</td>\n",
              "      <td>1.389</td>\n",
              "      <td>0.097</td>\n",
              "      <td>1.18</td>\n",
              "      <td>1.760</td>\n",
              "      <td>0.419</td>\n",
              "      <td>0.070</td>\n",
              "      <td>0.97</td>\n",
              "      <td>0.095</td>\n",
              "      <td>0.5614</td>\n",
              "      <td>1.161</td>\n",
              "      <td>0.098</td>\n",
              "    </tr>\n",
              "    <tr>\n",
              "      <th>3</th>\n",
              "      <td>2004-05-09</td>\n",
              "      <td>2004-05-15</td>\n",
              "      <td>CENTRO OESTE</td>\n",
              "      <td>MATO GROSSO DO SUL</td>\n",
              "      <td>ETANOL HIDRATADO</td>\n",
              "      <td>162</td>\n",
              "      <td>R$/l</td>\n",
              "      <td>1.262</td>\n",
              "      <td>0.070</td>\n",
              "      <td>1.09</td>\n",
              "      <td>1.509</td>\n",
              "      <td>0.432</td>\n",
              "      <td>0.055</td>\n",
              "      <td>0.83</td>\n",
              "      <td>0.119</td>\n",
              "      <td>0.5991</td>\n",
              "      <td>1.22242</td>\n",
              "      <td>0.143</td>\n",
              "    </tr>\n",
              "    <tr>\n",
              "      <th>4</th>\n",
              "      <td>2004-05-09</td>\n",
              "      <td>2004-05-15</td>\n",
              "      <td>NORDESTE</td>\n",
              "      <td>ALAGOAS</td>\n",
              "      <td>ETANOL HIDRATADO</td>\n",
              "      <td>103</td>\n",
              "      <td>R$/l</td>\n",
              "      <td>1.181</td>\n",
              "      <td>0.078</td>\n",
              "      <td>1.05</td>\n",
              "      <td>1.400</td>\n",
              "      <td>0.24</td>\n",
              "      <td>0.066</td>\n",
              "      <td>0.941</td>\n",
              "      <td>0.077</td>\n",
              "      <td>0.7441</td>\n",
              "      <td>1.0317</td>\n",
              "      <td>0.082</td>\n",
              "    </tr>\n",
              "  </tbody>\n",
              "</table>\n",
              "</div>\n",
              "    <div class=\"colab-df-buttons\">\n",
              "\n",
              "  <div class=\"colab-df-container\">\n",
              "    <button class=\"colab-df-convert\" onclick=\"convertToInteractive('df-0961f34f-c7e7-4a99-9cd2-a68903f7a3dc')\"\n",
              "            title=\"Convert this dataframe to an interactive table.\"\n",
              "            style=\"display:none;\">\n",
              "\n",
              "  <svg xmlns=\"http://www.w3.org/2000/svg\" height=\"24px\" viewBox=\"0 -960 960 960\">\n",
              "    <path d=\"M120-120v-720h720v720H120Zm60-500h600v-160H180v160Zm220 220h160v-160H400v160Zm0 220h160v-160H400v160ZM180-400h160v-160H180v160Zm440 0h160v-160H620v160ZM180-180h160v-160H180v160Zm440 0h160v-160H620v160Z\"/>\n",
              "  </svg>\n",
              "    </button>\n",
              "\n",
              "  <style>\n",
              "    .colab-df-container {\n",
              "      display:flex;\n",
              "      gap: 12px;\n",
              "    }\n",
              "\n",
              "    .colab-df-convert {\n",
              "      background-color: #E8F0FE;\n",
              "      border: none;\n",
              "      border-radius: 50%;\n",
              "      cursor: pointer;\n",
              "      display: none;\n",
              "      fill: #1967D2;\n",
              "      height: 32px;\n",
              "      padding: 0 0 0 0;\n",
              "      width: 32px;\n",
              "    }\n",
              "\n",
              "    .colab-df-convert:hover {\n",
              "      background-color: #E2EBFA;\n",
              "      box-shadow: 0px 1px 2px rgba(60, 64, 67, 0.3), 0px 1px 3px 1px rgba(60, 64, 67, 0.15);\n",
              "      fill: #174EA6;\n",
              "    }\n",
              "\n",
              "    .colab-df-buttons div {\n",
              "      margin-bottom: 4px;\n",
              "    }\n",
              "\n",
              "    [theme=dark] .colab-df-convert {\n",
              "      background-color: #3B4455;\n",
              "      fill: #D2E3FC;\n",
              "    }\n",
              "\n",
              "    [theme=dark] .colab-df-convert:hover {\n",
              "      background-color: #434B5C;\n",
              "      box-shadow: 0px 1px 3px 1px rgba(0, 0, 0, 0.15);\n",
              "      filter: drop-shadow(0px 1px 2px rgba(0, 0, 0, 0.3));\n",
              "      fill: #FFFFFF;\n",
              "    }\n",
              "  </style>\n",
              "\n",
              "    <script>\n",
              "      const buttonEl =\n",
              "        document.querySelector('#df-0961f34f-c7e7-4a99-9cd2-a68903f7a3dc button.colab-df-convert');\n",
              "      buttonEl.style.display =\n",
              "        google.colab.kernel.accessAllowed ? 'block' : 'none';\n",
              "\n",
              "      async function convertToInteractive(key) {\n",
              "        const element = document.querySelector('#df-0961f34f-c7e7-4a99-9cd2-a68903f7a3dc');\n",
              "        const dataTable =\n",
              "          await google.colab.kernel.invokeFunction('convertToInteractive',\n",
              "                                                    [key], {});\n",
              "        if (!dataTable) return;\n",
              "\n",
              "        const docLinkHtml = 'Like what you see? Visit the ' +\n",
              "          '<a target=\"_blank\" href=https://colab.research.google.com/notebooks/data_table.ipynb>data table notebook</a>'\n",
              "          + ' to learn more about interactive tables.';\n",
              "        element.innerHTML = '';\n",
              "        dataTable['output_type'] = 'display_data';\n",
              "        await google.colab.output.renderOutput(dataTable, element);\n",
              "        const docLink = document.createElement('div');\n",
              "        docLink.innerHTML = docLinkHtml;\n",
              "        element.appendChild(docLink);\n",
              "      }\n",
              "    </script>\n",
              "  </div>\n",
              "\n",
              "\n",
              "<div id=\"df-1c1ff3af-1039-49b3-a85b-9bcfa623e89d\">\n",
              "  <button class=\"colab-df-quickchart\" onclick=\"quickchart('df-1c1ff3af-1039-49b3-a85b-9bcfa623e89d')\"\n",
              "            title=\"Suggest charts\"\n",
              "            style=\"display:none;\">\n",
              "\n",
              "<svg xmlns=\"http://www.w3.org/2000/svg\" height=\"24px\"viewBox=\"0 0 24 24\"\n",
              "     width=\"24px\">\n",
              "    <g>\n",
              "        <path d=\"M19 3H5c-1.1 0-2 .9-2 2v14c0 1.1.9 2 2 2h14c1.1 0 2-.9 2-2V5c0-1.1-.9-2-2-2zM9 17H7v-7h2v7zm4 0h-2V7h2v10zm4 0h-2v-4h2v4z\"/>\n",
              "    </g>\n",
              "</svg>\n",
              "  </button>\n",
              "\n",
              "<style>\n",
              "  .colab-df-quickchart {\n",
              "      --bg-color: #E8F0FE;\n",
              "      --fill-color: #1967D2;\n",
              "      --hover-bg-color: #E2EBFA;\n",
              "      --hover-fill-color: #174EA6;\n",
              "      --disabled-fill-color: #AAA;\n",
              "      --disabled-bg-color: #DDD;\n",
              "  }\n",
              "\n",
              "  [theme=dark] .colab-df-quickchart {\n",
              "      --bg-color: #3B4455;\n",
              "      --fill-color: #D2E3FC;\n",
              "      --hover-bg-color: #434B5C;\n",
              "      --hover-fill-color: #FFFFFF;\n",
              "      --disabled-bg-color: #3B4455;\n",
              "      --disabled-fill-color: #666;\n",
              "  }\n",
              "\n",
              "  .colab-df-quickchart {\n",
              "    background-color: var(--bg-color);\n",
              "    border: none;\n",
              "    border-radius: 50%;\n",
              "    cursor: pointer;\n",
              "    display: none;\n",
              "    fill: var(--fill-color);\n",
              "    height: 32px;\n",
              "    padding: 0;\n",
              "    width: 32px;\n",
              "  }\n",
              "\n",
              "  .colab-df-quickchart:hover {\n",
              "    background-color: var(--hover-bg-color);\n",
              "    box-shadow: 0 1px 2px rgba(60, 64, 67, 0.3), 0 1px 3px 1px rgba(60, 64, 67, 0.15);\n",
              "    fill: var(--button-hover-fill-color);\n",
              "  }\n",
              "\n",
              "  .colab-df-quickchart-complete:disabled,\n",
              "  .colab-df-quickchart-complete:disabled:hover {\n",
              "    background-color: var(--disabled-bg-color);\n",
              "    fill: var(--disabled-fill-color);\n",
              "    box-shadow: none;\n",
              "  }\n",
              "\n",
              "  .colab-df-spinner {\n",
              "    border: 2px solid var(--fill-color);\n",
              "    border-color: transparent;\n",
              "    border-bottom-color: var(--fill-color);\n",
              "    animation:\n",
              "      spin 1s steps(1) infinite;\n",
              "  }\n",
              "\n",
              "  @keyframes spin {\n",
              "    0% {\n",
              "      border-color: transparent;\n",
              "      border-bottom-color: var(--fill-color);\n",
              "      border-left-color: var(--fill-color);\n",
              "    }\n",
              "    20% {\n",
              "      border-color: transparent;\n",
              "      border-left-color: var(--fill-color);\n",
              "      border-top-color: var(--fill-color);\n",
              "    }\n",
              "    30% {\n",
              "      border-color: transparent;\n",
              "      border-left-color: var(--fill-color);\n",
              "      border-top-color: var(--fill-color);\n",
              "      border-right-color: var(--fill-color);\n",
              "    }\n",
              "    40% {\n",
              "      border-color: transparent;\n",
              "      border-right-color: var(--fill-color);\n",
              "      border-top-color: var(--fill-color);\n",
              "    }\n",
              "    60% {\n",
              "      border-color: transparent;\n",
              "      border-right-color: var(--fill-color);\n",
              "    }\n",
              "    80% {\n",
              "      border-color: transparent;\n",
              "      border-right-color: var(--fill-color);\n",
              "      border-bottom-color: var(--fill-color);\n",
              "    }\n",
              "    90% {\n",
              "      border-color: transparent;\n",
              "      border-bottom-color: var(--fill-color);\n",
              "    }\n",
              "  }\n",
              "</style>\n",
              "\n",
              "  <script>\n",
              "    async function quickchart(key) {\n",
              "      const quickchartButtonEl =\n",
              "        document.querySelector('#' + key + ' button');\n",
              "      quickchartButtonEl.disabled = true;  // To prevent multiple clicks.\n",
              "      quickchartButtonEl.classList.add('colab-df-spinner');\n",
              "      try {\n",
              "        const charts = await google.colab.kernel.invokeFunction(\n",
              "            'suggestCharts', [key], {});\n",
              "      } catch (error) {\n",
              "        console.error('Error during call to suggestCharts:', error);\n",
              "      }\n",
              "      quickchartButtonEl.classList.remove('colab-df-spinner');\n",
              "      quickchartButtonEl.classList.add('colab-df-quickchart-complete');\n",
              "    }\n",
              "    (() => {\n",
              "      let quickchartButtonEl =\n",
              "        document.querySelector('#df-1c1ff3af-1039-49b3-a85b-9bcfa623e89d button');\n",
              "      quickchartButtonEl.style.display =\n",
              "        google.colab.kernel.accessAllowed ? 'block' : 'none';\n",
              "    })();\n",
              "  </script>\n",
              "</div>\n",
              "\n",
              "    </div>\n",
              "  </div>\n"
            ],
            "application/vnd.google.colaboratory.intrinsic+json": {
              "type": "dataframe",
              "variable_name": "df"
            }
          },
          "metadata": {},
          "execution_count": 3
        }
      ],
      "source": [
        "df.head()"
      ]
    },
    {
      "cell_type": "code",
      "source": [
        "df.info()"
      ],
      "metadata": {
        "id": "NL-JLBnJUjSd",
        "colab": {
          "base_uri": "https://localhost:8080/"
        },
        "outputId": "2a1671ee-5a92-41ae-92a1-f19b55735d52"
      },
      "id": "NL-JLBnJUjSd",
      "execution_count": 4,
      "outputs": [
        {
          "output_type": "stream",
          "name": "stdout",
          "text": [
            "<class 'pandas.core.frame.DataFrame'>\n",
            "Index: 120823 entries, 0 to 120822\n",
            "Data columns (total 18 columns):\n",
            " #   Column                         Non-Null Count   Dtype  \n",
            "---  ------                         --------------   -----  \n",
            " 0   DATA INICIAL                   120823 non-null  object \n",
            " 1   DATA FINAL                     120823 non-null  object \n",
            " 2   REGIÃO                         120823 non-null  object \n",
            " 3   ESTADO                         120823 non-null  object \n",
            " 4   PRODUTO                        120823 non-null  object \n",
            " 5   NÚMERO DE POSTOS PESQUISADOS   120823 non-null  int64  \n",
            " 6   UNIDADE DE MEDIDA              120823 non-null  object \n",
            " 7   PREÇO MÉDIO REVENDA            120823 non-null  float64\n",
            " 8   DESVIO PADRÃO REVENDA          120823 non-null  float64\n",
            " 9   PREÇO MÍNIMO REVENDA           120823 non-null  float64\n",
            " 10  PREÇO MÁXIMO REVENDA           120823 non-null  float64\n",
            " 11  MARGEM MÉDIA REVENDA           120823 non-null  object \n",
            " 12  COEF DE VARIAÇÃO REVENDA       120823 non-null  float64\n",
            " 13  PREÇO MÉDIO DISTRIBUIÇÃO       120823 non-null  object \n",
            " 14  DESVIO PADRÃO DISTRIBUIÇÃO     120823 non-null  object \n",
            " 15  PREÇO MÍNIMO DISTRIBUIÇÃO      120823 non-null  object \n",
            " 16  PREÇO MÁXIMO DISTRIBUIÇÃO      120823 non-null  object \n",
            " 17  COEF DE VARIAÇÃO DISTRIBUIÇÃO  120823 non-null  object \n",
            "dtypes: float64(5), int64(1), object(12)\n",
            "memory usage: 17.5+ MB\n"
          ]
        }
      ]
    },
    {
      "cell_type": "markdown",
      "id": "2bcb2d2f-1c32-4583-8981-ca5b6ed0e048",
      "metadata": {
        "id": "2bcb2d2f-1c32-4583-8981-ca5b6ed0e048"
      },
      "source": [
        "### 3. Selecione a terceira entrada da coluna DATA INICIAL e verifique seu tipo."
      ]
    },
    {
      "cell_type": "code",
      "execution_count": 5,
      "id": "c4399a8c-0ad3-4b6e-bcd8-d701438892fe",
      "metadata": {
        "id": "c4399a8c-0ad3-4b6e-bcd8-d701438892fe",
        "colab": {
          "base_uri": "https://localhost:8080/"
        },
        "outputId": "fc7e880f-8172-4423-ad56-433ec0a0750c"
      },
      "outputs": [
        {
          "output_type": "stream",
          "name": "stdout",
          "text": [
            "<class 'pandas.core.series.Series'>\n",
            "Index: 120823 entries, 0 to 120822\n",
            "Series name: DATA INICIAL\n",
            "Non-Null Count   Dtype \n",
            "--------------   ----- \n",
            "120823 non-null  object\n",
            "dtypes: object(1)\n",
            "memory usage: 1.8+ MB\n"
          ]
        }
      ],
      "source": [
        "dtype=df['DATA INICIAL'].info() #Resposta: Object."
      ]
    },
    {
      "cell_type": "markdown",
      "id": "7eda8c87-eef7-4b66-97ee-46629b214fc7",
      "metadata": {
        "id": "7eda8c87-eef7-4b66-97ee-46629b214fc7"
      },
      "source": [
        "### 4. Você deve ter percebido que as colunas DATA INICIAL e DATA FINAL estão formatadas como string. Utilizando o método pd.to_datetime(), converta ambas colunas para Timestamp / Datetime."
      ]
    },
    {
      "cell_type": "code",
      "execution_count": 6,
      "id": "6813ae62-bdd0-4f73-8278-7fa0e0027f9c",
      "metadata": {
        "id": "6813ae62-bdd0-4f73-8278-7fa0e0027f9c"
      },
      "outputs": [],
      "source": [
        "df['DATA INICIAL']=pd.to_datetime(df['DATA INICIAL'])\n",
        "df['DATA FINAL']=pd.to_datetime(df['DATA FINAL'])"
      ]
    },
    {
      "cell_type": "markdown",
      "id": "2f9aaafa-f9a4-4f07-9bc6-86e5911c863c",
      "metadata": {
        "id": "2f9aaafa-f9a4-4f07-9bc6-86e5911c863c"
      },
      "source": [
        "### 5. Crie uma nova coluna para representar o ano e o mês(aaaa-mm), utilizando a coluna DATA FINAL como referência."
      ]
    },
    {
      "cell_type": "code",
      "execution_count": 7,
      "id": "03f15a92-bae5-4256-add1-a7c97fe9f01d",
      "metadata": {
        "id": "03f15a92-bae5-4256-add1-a7c97fe9f01d"
      },
      "outputs": [],
      "source": [
        "df['MÊS']=df['DATA FINAL'].dt.month\n",
        "df['ANO'] = df['DATA FINAL'].dt.year"
      ]
    },
    {
      "cell_type": "code",
      "source": [
        "df['ANO']=df['ANO'].astype(str)\n",
        "df['MÊS']=df['MÊS'].astype(str)"
      ],
      "metadata": {
        "id": "-RlMbUXpe2RG"
      },
      "id": "-RlMbUXpe2RG",
      "execution_count": 8,
      "outputs": []
    },
    {
      "cell_type": "code",
      "source": [
        "df['ANO-MÊS']=df['ANO']+'-'+df['MÊS']"
      ],
      "metadata": {
        "id": "KaeDNNgAZD48"
      },
      "id": "KaeDNNgAZD48",
      "execution_count": 9,
      "outputs": []
    },
    {
      "cell_type": "markdown",
      "id": "7d25e880-b153-4cce-8268-8388c3de52a3",
      "metadata": {
        "id": "7d25e880-b153-4cce-8268-8388c3de52a3"
      },
      "source": [
        "### 6. Utilizando o value_counts(), liste todos os tipos de produtos contidos na base de dados."
      ]
    },
    {
      "cell_type": "code",
      "execution_count": 10,
      "id": "f953fa16-59bd-40d9-90c0-af138acb4191",
      "metadata": {
        "id": "f953fa16-59bd-40d9-90c0-af138acb4191",
        "colab": {
          "base_uri": "https://localhost:8080/",
          "height": 398
        },
        "outputId": "49f0a0e9-bb29-4a29-8ec2-76ff22a69701"
      },
      "outputs": [
        {
          "output_type": "execute_result",
          "data": {
            "text/plain": [
              "PRODUTO\n",
              "GASOLINA COMUM        23570\n",
              "GLP                   23561\n",
              "ETANOL HIDRATADO      23440\n",
              "ÓLEO DIESEL           21194\n",
              "GNV                   14469\n",
              "ÓLEO DIESEL S10        9113\n",
              "OLEO DIESEL S10        2376\n",
              "OLEO DIESEL            2351\n",
              "GASOLINA ADITIVADA      749\n",
              "Name: count, dtype: int64"
            ],
            "text/html": [
              "<div>\n",
              "<style scoped>\n",
              "    .dataframe tbody tr th:only-of-type {\n",
              "        vertical-align: middle;\n",
              "    }\n",
              "\n",
              "    .dataframe tbody tr th {\n",
              "        vertical-align: top;\n",
              "    }\n",
              "\n",
              "    .dataframe thead th {\n",
              "        text-align: right;\n",
              "    }\n",
              "</style>\n",
              "<table border=\"1\" class=\"dataframe\">\n",
              "  <thead>\n",
              "    <tr style=\"text-align: right;\">\n",
              "      <th></th>\n",
              "      <th>count</th>\n",
              "    </tr>\n",
              "    <tr>\n",
              "      <th>PRODUTO</th>\n",
              "      <th></th>\n",
              "    </tr>\n",
              "  </thead>\n",
              "  <tbody>\n",
              "    <tr>\n",
              "      <th>GASOLINA COMUM</th>\n",
              "      <td>23570</td>\n",
              "    </tr>\n",
              "    <tr>\n",
              "      <th>GLP</th>\n",
              "      <td>23561</td>\n",
              "    </tr>\n",
              "    <tr>\n",
              "      <th>ETANOL HIDRATADO</th>\n",
              "      <td>23440</td>\n",
              "    </tr>\n",
              "    <tr>\n",
              "      <th>ÓLEO DIESEL</th>\n",
              "      <td>21194</td>\n",
              "    </tr>\n",
              "    <tr>\n",
              "      <th>GNV</th>\n",
              "      <td>14469</td>\n",
              "    </tr>\n",
              "    <tr>\n",
              "      <th>ÓLEO DIESEL S10</th>\n",
              "      <td>9113</td>\n",
              "    </tr>\n",
              "    <tr>\n",
              "      <th>OLEO DIESEL S10</th>\n",
              "      <td>2376</td>\n",
              "    </tr>\n",
              "    <tr>\n",
              "      <th>OLEO DIESEL</th>\n",
              "      <td>2351</td>\n",
              "    </tr>\n",
              "    <tr>\n",
              "      <th>GASOLINA ADITIVADA</th>\n",
              "      <td>749</td>\n",
              "    </tr>\n",
              "  </tbody>\n",
              "</table>\n",
              "</div><br><label><b>dtype:</b> int64</label>"
            ]
          },
          "metadata": {},
          "execution_count": 10
        }
      ],
      "source": [
        "df['PRODUTO'].value_counts()"
      ]
    },
    {
      "cell_type": "markdown",
      "id": "fab0300f-7c49-48be-b95a-948601713229",
      "metadata": {
        "id": "fab0300f-7c49-48be-b95a-948601713229"
      },
      "source": [
        "### 7. Filtre o DataFrame para obter apenas dados da 'GASOLINA COMUM'. Grave em uma nova variável."
      ]
    },
    {
      "cell_type": "code",
      "execution_count": 11,
      "id": "6f1a53ad-2f8e-48b3-b1f3-05698caec5a7",
      "metadata": {
        "id": "6f1a53ad-2f8e-48b3-b1f3-05698caec5a7"
      },
      "outputs": [],
      "source": [
        "dg= df[df['PRODUTO']=='GASOLINA COMUM']"
      ]
    },
    {
      "cell_type": "markdown",
      "id": "fb031b0b-51e7-43d7-b2cb-10da05019a73",
      "metadata": {
        "id": "fb031b0b-51e7-43d7-b2cb-10da05019a73"
      },
      "source": [
        "### 8. Qual o preço médio de revenda da gasolina em agosto de 2008?"
      ]
    },
    {
      "cell_type": "code",
      "source": [
        "dg8=dg[dg['ANO']=='2008']"
      ],
      "metadata": {
        "id": "XzmRUAUJgWyl"
      },
      "id": "XzmRUAUJgWyl",
      "execution_count": 12,
      "outputs": []
    },
    {
      "cell_type": "code",
      "execution_count": 13,
      "id": "3ba34e10-cc51-4b04-b67a-4245248907ed",
      "metadata": {
        "id": "3ba34e10-cc51-4b04-b67a-4245248907ed"
      },
      "outputs": [],
      "source": [
        "dga8=dg8[dg8['MÊS']=='8']"
      ]
    },
    {
      "cell_type": "code",
      "source": [
        "dga8['PREÇO MÉDIO REVENDA'].mean()"
      ],
      "metadata": {
        "colab": {
          "base_uri": "https://localhost:8080/"
        },
        "id": "DA4J2AR6iAhc",
        "outputId": "d68b4f53-3c25-4299-8490-b5e522f10bb2"
      },
      "id": "DA4J2AR6iAhc",
      "execution_count": 14,
      "outputs": [
        {
          "output_type": "execute_result",
          "data": {
            "text/plain": [
              "2.6012444444444442"
            ]
          },
          "metadata": {},
          "execution_count": 14
        }
      ]
    },
    {
      "cell_type": "markdown",
      "id": "a57428cc-e9e6-48f8-a7f7-27fb9c87bcde",
      "metadata": {
        "id": "a57428cc-e9e6-48f8-a7f7-27fb9c87bcde"
      },
      "source": [
        "### 9. Qual o preço médio de revenda da gasolina em maio de 2014 em São Paulo?"
      ]
    },
    {
      "cell_type": "code",
      "execution_count": 15,
      "id": "e981678b-85db-499a-8466-e24c455ea20c",
      "metadata": {
        "id": "e981678b-85db-499a-8466-e24c455ea20c"
      },
      "outputs": [],
      "source": [
        "dg14=dg[dg['ANO']=='2014']"
      ]
    },
    {
      "cell_type": "code",
      "source": [
        "dgm14=dg14[dg14['MÊS']=='5']"
      ],
      "metadata": {
        "id": "2vqP4jqgqH2u"
      },
      "id": "2vqP4jqgqH2u",
      "execution_count": 16,
      "outputs": []
    },
    {
      "cell_type": "code",
      "source": [
        "dgm14['PREÇO MÉDIO REVENDA'].mean()"
      ],
      "metadata": {
        "colab": {
          "base_uri": "https://localhost:8080/"
        },
        "id": "-6-FMIg_igC7",
        "outputId": "e41f43ec-dc09-4cdf-f339-1fa8408ed3d7"
      },
      "id": "-6-FMIg_igC7",
      "execution_count": 17,
      "outputs": [
        {
          "output_type": "execute_result",
          "data": {
            "text/plain": [
              "3.030444444444444"
            ]
          },
          "metadata": {},
          "execution_count": 17
        }
      ]
    },
    {
      "cell_type": "markdown",
      "id": "6ab2edd0-8bf7-49d7-b3e8-5535ec4a58cf",
      "metadata": {
        "id": "6ab2edd0-8bf7-49d7-b3e8-5535ec4a58cf"
      },
      "source": [
        "### 10. Você conseguiria descobrir em qual(quais) estado(s) a gasolina ultrapassou a barreira dos R$ 5,00? E quando isso ocorreu?"
      ]
    },
    {
      "cell_type": "code",
      "source": [
        "states=[]\n",
        "for idx,row in dg.iterrows():\n",
        "  if row['PREÇO MÉDIO REVENDA']>=5:\n",
        "    if row['ESTADO'] not in states:\n",
        "     states.append(row['ESTADO'])\n",
        "     states.append(row['ANO'])"
      ],
      "metadata": {
        "id": "jVd4pK-T1NGB"
      },
      "id": "jVd4pK-T1NGB",
      "execution_count": 18,
      "outputs": []
    },
    {
      "cell_type": "code",
      "source": [
        "states"
      ],
      "metadata": {
        "colab": {
          "base_uri": "https://localhost:8080/"
        },
        "id": "g-VW7Mr6jLwV",
        "outputId": "054dc693-600d-468e-f484-f2fe93739113"
      },
      "id": "g-VW7Mr6jLwV",
      "execution_count": 19,
      "outputs": [
        {
          "output_type": "execute_result",
          "data": {
            "text/plain": [
              "['ACRE',\n",
              " '2018',\n",
              " 'RIO DE JANEIRO',\n",
              " '2018',\n",
              " 'TOCANTINS',\n",
              " '2018',\n",
              " 'RIO GRANDE DO NORTE',\n",
              " '2021',\n",
              " 'DISTRITO FEDERAL',\n",
              " '2021',\n",
              " 'ALAGOAS',\n",
              " '2021',\n",
              " 'BAHIA',\n",
              " '2021',\n",
              " 'CEARA',\n",
              " '2021',\n",
              " 'MATO GROSSO DO SUL',\n",
              " '2021',\n",
              " 'MINAS GERAIS',\n",
              " '2021',\n",
              " 'PARA',\n",
              " '2021',\n",
              " 'PIAUI',\n",
              " '2021',\n",
              " 'RIO GRANDE DO SUL',\n",
              " '2021',\n",
              " 'AMAZONAS',\n",
              " '2021',\n",
              " 'ESPIRITO SANTO',\n",
              " '2021',\n",
              " 'GOIAS',\n",
              " '2021',\n",
              " 'MARANHAO',\n",
              " '2021',\n",
              " 'PARAIBA',\n",
              " '2021',\n",
              " 'PERNAMBUCO',\n",
              " '2021',\n",
              " 'RONDONIA',\n",
              " '2021',\n",
              " 'SANTA CATARINA',\n",
              " '2021',\n",
              " 'SERGIPE',\n",
              " '2021',\n",
              " 'MATO GROSSO',\n",
              " '2021',\n",
              " 'PARANA',\n",
              " '2021',\n",
              " 'RORAIMA',\n",
              " '2021',\n",
              " 'SAO PAULO',\n",
              " '2021']"
            ]
          },
          "metadata": {},
          "execution_count": 19
        }
      ]
    },
    {
      "cell_type": "markdown",
      "id": "80f4c3a6-ba0e-43b0-a328-91c0aa04348c",
      "metadata": {
        "id": "80f4c3a6-ba0e-43b0-a328-91c0aa04348c"
      },
      "source": [
        "### 11. Qual a média de preço dos estados da região sul em 2012?"
      ]
    },
    {
      "cell_type": "code",
      "execution_count": 20,
      "id": "e6bbbe89-3dc9-4264-ba31-2ce5aa76054b",
      "metadata": {
        "id": "e6bbbe89-3dc9-4264-ba31-2ce5aa76054b"
      },
      "outputs": [],
      "source": [
        "dgs=dg[dg['REGIÃO']=='SUL']"
      ]
    },
    {
      "cell_type": "code",
      "source": [
        "ds12=dgs[dgs['ANO']=='2012']"
      ],
      "metadata": {
        "id": "5n9HCLSl2jAa"
      },
      "id": "5n9HCLSl2jAa",
      "execution_count": 21,
      "outputs": []
    },
    {
      "cell_type": "code",
      "source": [
        "ds12['PREÇO MÉDIO REVENDA'].mean()"
      ],
      "metadata": {
        "colab": {
          "base_uri": "https://localhost:8080/"
        },
        "id": "0Nh00hgjmkIw",
        "outputId": "4c416714-b551-4691-b857-eaa43bc909bf"
      },
      "id": "0Nh00hgjmkIw",
      "execution_count": 22,
      "outputs": [
        {
          "output_type": "execute_result",
          "data": {
            "text/plain": [
              "2.7214423076923073"
            ]
          },
          "metadata": {},
          "execution_count": 22
        }
      ]
    },
    {
      "cell_type": "markdown",
      "id": "28781cbf-0dba-4512-83df-87537e548c63",
      "metadata": {
        "id": "28781cbf-0dba-4512-83df-87537e548c63"
      },
      "source": [
        "### 12. Você conseguiria obter uma tabela contendo a variação percentual ano a ano para o estado do Rio de Janeiro?"
      ]
    },
    {
      "cell_type": "code",
      "execution_count": 23,
      "id": "09d2d505-127b-47ff-8fe5-0c6170da3900",
      "metadata": {
        "id": "09d2d505-127b-47ff-8fe5-0c6170da3900"
      },
      "outputs": [],
      "source": [
        "drj=dg[dg['ESTADO']=='RIO DE JANEIRO']\n",
        "drj['PREÇO MÉDIO REVENDA'].astype(float)\n",
        "drj2=pd.DataFrame()\n",
        "drj2['ANO']=drj['ANO']\n",
        "drj2['PREÇO MÉDIO REVENDA']=drj['PREÇO MÉDIO REVENDA']\n",
        "drj=drj.set_index('ANO')"
      ]
    },
    {
      "cell_type": "code",
      "source": [
        "drj2=drj2.groupby('ANO').sum()\n",
        "c=0\n",
        "prices=[]\n",
        "for idx,row in drj2.iterrows():\n",
        "  prices.append(row['PREÇO MÉDIO REVENDA'])\n",
        "  c+=1"
      ],
      "metadata": {
        "id": "2O-l027QtkxL"
      },
      "id": "2O-l027QtkxL",
      "execution_count": 24,
      "outputs": []
    },
    {
      "cell_type": "code",
      "source": [
        "c=0\n",
        "a=5\n",
        "for p in prices:\n",
        "  c+=1\n",
        "  try:\n",
        "     print(((prices[c]-prices[c-1])/prices[c-1])*100,'%')\n",
        "  except:\n",
        "    print('Fim da lista')\n",
        "  a+=1"
      ],
      "metadata": {
        "colab": {
          "base_uri": "https://localhost:8080/"
        },
        "id": "MW4OOcSL5G2N",
        "outputId": "b7fdad78-3584-4805-9c57-fd22308fb329"
      },
      "id": "MW4OOcSL5G2N",
      "execution_count": 25,
      "outputs": [
        {
          "output_type": "stream",
          "name": "stdout",
          "text": [
            "66.40343778776123 %\n",
            "11.673709628735287 %\n",
            "-1.1434706549241285 %\n",
            "0.5787283166752745 %\n",
            "-3.157139620931822 %\n",
            "7.357562242200724 %\n",
            "9.04092675309584 %\n",
            "-1.1896118774686453 %\n",
            "4.999089971485771 %\n",
            "4.562701026559581 %\n",
            "10.769939215325104 %\n",
            "15.092760419264891 %\n",
            "2.735503756501641 %\n",
            "18.34989686855429 %\n",
            "0.00039609607706634405 %\n",
            "-17.01938882617392 %\n",
            "-51.98117395475831 %\n",
            "Fim da lista\n"
          ]
        }
      ]
    }
  ],
  "metadata": {
    "kernelspec": {
      "display_name": "Python 3 (ipykernel)",
      "language": "python",
      "name": "python3"
    },
    "language_info": {
      "codemirror_mode": {
        "name": "ipython",
        "version": 3
      },
      "file_extension": ".py",
      "mimetype": "text/x-python",
      "name": "python",
      "nbconvert_exporter": "python",
      "pygments_lexer": "ipython3",
      "version": "3.9.12"
    },
    "colab": {
      "provenance": []
    }
  },
  "nbformat": 4,
  "nbformat_minor": 5
}