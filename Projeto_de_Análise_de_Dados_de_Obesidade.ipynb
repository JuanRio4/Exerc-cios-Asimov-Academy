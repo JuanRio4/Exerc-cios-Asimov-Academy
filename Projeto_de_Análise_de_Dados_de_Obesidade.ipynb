{
  "cells": [
    {
      "cell_type": "markdown",
      "id": "motivated-olympus",
      "metadata": {
        "id": "motivated-olympus"
      },
      "source": [
        "# Projeto final\n",
        "\n",
        "Bem vindo ao projeto final do curso/módulo de Pandas.\n",
        "Neste projeto, você deve responder a um conjunto de perguntas feitas a dois conjuntos de dados:\n",
        "\n",
        "1. [Obesity among adults by country, 1975-2016](https://www.kaggle.com/amanarora/obesity-among-adults-by-country-19752016/)\n",
        "2. [GDP Per Person (1901-2011)](https://www.kaggle.com/divyansh22/gdp-per-person-19012011?select=GDP.csv)\n",
        "\n",
        "Tais conjuntos de dados são públicos foram publicados no Kaggle. Mais instruções sobre cada um deles podem ser encontrados nos links acima. Você também os encontrará na pasta `Datasets`, dentro de nossas apostilas."
      ]
    },
    {
      "cell_type": "code",
      "execution_count": null,
      "id": "million-survival",
      "metadata": {
        "id": "million-survival"
      },
      "outputs": [],
      "source": [
        "import pandas as pd\n",
        "import numpy as np"
      ]
    },
    {
      "cell_type": "markdown",
      "id": "becoming-princeton",
      "metadata": {
        "id": "becoming-princeton"
      },
      "source": [
        "## Perguntas - Obesity among adults by country, 1975-2016"
      ]
    },
    {
      "cell_type": "code",
      "execution_count": null,
      "id": "formal-heater",
      "metadata": {
        "id": "formal-heater"
      },
      "outputs": [],
      "source": [
        "df = pd.read_csv(\"obesity_cleaned.csv\",index_col=0)"
      ]
    },
    {
      "cell_type": "code",
      "source": [
        "df.head()"
      ],
      "metadata": {
        "colab": {
          "base_uri": "https://localhost:8080/",
          "height": 206
        },
        "id": "vx2qtMUB_gOm",
        "outputId": "f09a446a-4d92-4bff-b73c-b7921a24dc3c"
      },
      "id": "vx2qtMUB_gOm",
      "execution_count": null,
      "outputs": [
        {
          "output_type": "execute_result",
          "data": {
            "text/plain": [
              "       Country  Year    Obesity (%)         Sex\n",
              "0  Afghanistan  1975  0.5 [0.2-1.1]  Both sexes\n",
              "1  Afghanistan  1975  0.2 [0.0-0.6]        Male\n",
              "2  Afghanistan  1975  0.8 [0.2-2.0]      Female\n",
              "3  Afghanistan  1976  0.5 [0.2-1.1]  Both sexes\n",
              "4  Afghanistan  1976  0.2 [0.0-0.7]        Male"
            ],
            "text/html": [
              "\n",
              "  <div id=\"df-1db14f8f-3b70-4208-aa07-10c9988a7c2a\" class=\"colab-df-container\">\n",
              "    <div>\n",
              "<style scoped>\n",
              "    .dataframe tbody tr th:only-of-type {\n",
              "        vertical-align: middle;\n",
              "    }\n",
              "\n",
              "    .dataframe tbody tr th {\n",
              "        vertical-align: top;\n",
              "    }\n",
              "\n",
              "    .dataframe thead th {\n",
              "        text-align: right;\n",
              "    }\n",
              "</style>\n",
              "<table border=\"1\" class=\"dataframe\">\n",
              "  <thead>\n",
              "    <tr style=\"text-align: right;\">\n",
              "      <th></th>\n",
              "      <th>Country</th>\n",
              "      <th>Year</th>\n",
              "      <th>Obesity (%)</th>\n",
              "      <th>Sex</th>\n",
              "    </tr>\n",
              "  </thead>\n",
              "  <tbody>\n",
              "    <tr>\n",
              "      <th>0</th>\n",
              "      <td>Afghanistan</td>\n",
              "      <td>1975</td>\n",
              "      <td>0.5 [0.2-1.1]</td>\n",
              "      <td>Both sexes</td>\n",
              "    </tr>\n",
              "    <tr>\n",
              "      <th>1</th>\n",
              "      <td>Afghanistan</td>\n",
              "      <td>1975</td>\n",
              "      <td>0.2 [0.0-0.6]</td>\n",
              "      <td>Male</td>\n",
              "    </tr>\n",
              "    <tr>\n",
              "      <th>2</th>\n",
              "      <td>Afghanistan</td>\n",
              "      <td>1975</td>\n",
              "      <td>0.8 [0.2-2.0]</td>\n",
              "      <td>Female</td>\n",
              "    </tr>\n",
              "    <tr>\n",
              "      <th>3</th>\n",
              "      <td>Afghanistan</td>\n",
              "      <td>1976</td>\n",
              "      <td>0.5 [0.2-1.1]</td>\n",
              "      <td>Both sexes</td>\n",
              "    </tr>\n",
              "    <tr>\n",
              "      <th>4</th>\n",
              "      <td>Afghanistan</td>\n",
              "      <td>1976</td>\n",
              "      <td>0.2 [0.0-0.7]</td>\n",
              "      <td>Male</td>\n",
              "    </tr>\n",
              "  </tbody>\n",
              "</table>\n",
              "</div>\n",
              "    <div class=\"colab-df-buttons\">\n",
              "\n",
              "  <div class=\"colab-df-container\">\n",
              "    <button class=\"colab-df-convert\" onclick=\"convertToInteractive('df-1db14f8f-3b70-4208-aa07-10c9988a7c2a')\"\n",
              "            title=\"Convert this dataframe to an interactive table.\"\n",
              "            style=\"display:none;\">\n",
              "\n",
              "  <svg xmlns=\"http://www.w3.org/2000/svg\" height=\"24px\" viewBox=\"0 -960 960 960\">\n",
              "    <path d=\"M120-120v-720h720v720H120Zm60-500h600v-160H180v160Zm220 220h160v-160H400v160Zm0 220h160v-160H400v160ZM180-400h160v-160H180v160Zm440 0h160v-160H620v160ZM180-180h160v-160H180v160Zm440 0h160v-160H620v160Z\"/>\n",
              "  </svg>\n",
              "    </button>\n",
              "\n",
              "  <style>\n",
              "    .colab-df-container {\n",
              "      display:flex;\n",
              "      gap: 12px;\n",
              "    }\n",
              "\n",
              "    .colab-df-convert {\n",
              "      background-color: #E8F0FE;\n",
              "      border: none;\n",
              "      border-radius: 50%;\n",
              "      cursor: pointer;\n",
              "      display: none;\n",
              "      fill: #1967D2;\n",
              "      height: 32px;\n",
              "      padding: 0 0 0 0;\n",
              "      width: 32px;\n",
              "    }\n",
              "\n",
              "    .colab-df-convert:hover {\n",
              "      background-color: #E2EBFA;\n",
              "      box-shadow: 0px 1px 2px rgba(60, 64, 67, 0.3), 0px 1px 3px 1px rgba(60, 64, 67, 0.15);\n",
              "      fill: #174EA6;\n",
              "    }\n",
              "\n",
              "    .colab-df-buttons div {\n",
              "      margin-bottom: 4px;\n",
              "    }\n",
              "\n",
              "    [theme=dark] .colab-df-convert {\n",
              "      background-color: #3B4455;\n",
              "      fill: #D2E3FC;\n",
              "    }\n",
              "\n",
              "    [theme=dark] .colab-df-convert:hover {\n",
              "      background-color: #434B5C;\n",
              "      box-shadow: 0px 1px 3px 1px rgba(0, 0, 0, 0.15);\n",
              "      filter: drop-shadow(0px 1px 2px rgba(0, 0, 0, 0.3));\n",
              "      fill: #FFFFFF;\n",
              "    }\n",
              "  </style>\n",
              "\n",
              "    <script>\n",
              "      const buttonEl =\n",
              "        document.querySelector('#df-1db14f8f-3b70-4208-aa07-10c9988a7c2a button.colab-df-convert');\n",
              "      buttonEl.style.display =\n",
              "        google.colab.kernel.accessAllowed ? 'block' : 'none';\n",
              "\n",
              "      async function convertToInteractive(key) {\n",
              "        const element = document.querySelector('#df-1db14f8f-3b70-4208-aa07-10c9988a7c2a');\n",
              "        const dataTable =\n",
              "          await google.colab.kernel.invokeFunction('convertToInteractive',\n",
              "                                                    [key], {});\n",
              "        if (!dataTable) return;\n",
              "\n",
              "        const docLinkHtml = 'Like what you see? Visit the ' +\n",
              "          '<a target=\"_blank\" href=https://colab.research.google.com/notebooks/data_table.ipynb>data table notebook</a>'\n",
              "          + ' to learn more about interactive tables.';\n",
              "        element.innerHTML = '';\n",
              "        dataTable['output_type'] = 'display_data';\n",
              "        await google.colab.output.renderOutput(dataTable, element);\n",
              "        const docLink = document.createElement('div');\n",
              "        docLink.innerHTML = docLinkHtml;\n",
              "        element.appendChild(docLink);\n",
              "      }\n",
              "    </script>\n",
              "  </div>\n",
              "\n",
              "\n",
              "<div id=\"df-7ca03301-4d46-4bd4-ad93-f83c013c2eb7\">\n",
              "  <button class=\"colab-df-quickchart\" onclick=\"quickchart('df-7ca03301-4d46-4bd4-ad93-f83c013c2eb7')\"\n",
              "            title=\"Suggest charts\"\n",
              "            style=\"display:none;\">\n",
              "\n",
              "<svg xmlns=\"http://www.w3.org/2000/svg\" height=\"24px\"viewBox=\"0 0 24 24\"\n",
              "     width=\"24px\">\n",
              "    <g>\n",
              "        <path d=\"M19 3H5c-1.1 0-2 .9-2 2v14c0 1.1.9 2 2 2h14c1.1 0 2-.9 2-2V5c0-1.1-.9-2-2-2zM9 17H7v-7h2v7zm4 0h-2V7h2v10zm4 0h-2v-4h2v4z\"/>\n",
              "    </g>\n",
              "</svg>\n",
              "  </button>\n",
              "\n",
              "<style>\n",
              "  .colab-df-quickchart {\n",
              "      --bg-color: #E8F0FE;\n",
              "      --fill-color: #1967D2;\n",
              "      --hover-bg-color: #E2EBFA;\n",
              "      --hover-fill-color: #174EA6;\n",
              "      --disabled-fill-color: #AAA;\n",
              "      --disabled-bg-color: #DDD;\n",
              "  }\n",
              "\n",
              "  [theme=dark] .colab-df-quickchart {\n",
              "      --bg-color: #3B4455;\n",
              "      --fill-color: #D2E3FC;\n",
              "      --hover-bg-color: #434B5C;\n",
              "      --hover-fill-color: #FFFFFF;\n",
              "      --disabled-bg-color: #3B4455;\n",
              "      --disabled-fill-color: #666;\n",
              "  }\n",
              "\n",
              "  .colab-df-quickchart {\n",
              "    background-color: var(--bg-color);\n",
              "    border: none;\n",
              "    border-radius: 50%;\n",
              "    cursor: pointer;\n",
              "    display: none;\n",
              "    fill: var(--fill-color);\n",
              "    height: 32px;\n",
              "    padding: 0;\n",
              "    width: 32px;\n",
              "  }\n",
              "\n",
              "  .colab-df-quickchart:hover {\n",
              "    background-color: var(--hover-bg-color);\n",
              "    box-shadow: 0 1px 2px rgba(60, 64, 67, 0.3), 0 1px 3px 1px rgba(60, 64, 67, 0.15);\n",
              "    fill: var(--button-hover-fill-color);\n",
              "  }\n",
              "\n",
              "  .colab-df-quickchart-complete:disabled,\n",
              "  .colab-df-quickchart-complete:disabled:hover {\n",
              "    background-color: var(--disabled-bg-color);\n",
              "    fill: var(--disabled-fill-color);\n",
              "    box-shadow: none;\n",
              "  }\n",
              "\n",
              "  .colab-df-spinner {\n",
              "    border: 2px solid var(--fill-color);\n",
              "    border-color: transparent;\n",
              "    border-bottom-color: var(--fill-color);\n",
              "    animation:\n",
              "      spin 1s steps(1) infinite;\n",
              "  }\n",
              "\n",
              "  @keyframes spin {\n",
              "    0% {\n",
              "      border-color: transparent;\n",
              "      border-bottom-color: var(--fill-color);\n",
              "      border-left-color: var(--fill-color);\n",
              "    }\n",
              "    20% {\n",
              "      border-color: transparent;\n",
              "      border-left-color: var(--fill-color);\n",
              "      border-top-color: var(--fill-color);\n",
              "    }\n",
              "    30% {\n",
              "      border-color: transparent;\n",
              "      border-left-color: var(--fill-color);\n",
              "      border-top-color: var(--fill-color);\n",
              "      border-right-color: var(--fill-color);\n",
              "    }\n",
              "    40% {\n",
              "      border-color: transparent;\n",
              "      border-right-color: var(--fill-color);\n",
              "      border-top-color: var(--fill-color);\n",
              "    }\n",
              "    60% {\n",
              "      border-color: transparent;\n",
              "      border-right-color: var(--fill-color);\n",
              "    }\n",
              "    80% {\n",
              "      border-color: transparent;\n",
              "      border-right-color: var(--fill-color);\n",
              "      border-bottom-color: var(--fill-color);\n",
              "    }\n",
              "    90% {\n",
              "      border-color: transparent;\n",
              "      border-bottom-color: var(--fill-color);\n",
              "    }\n",
              "  }\n",
              "</style>\n",
              "\n",
              "  <script>\n",
              "    async function quickchart(key) {\n",
              "      const quickchartButtonEl =\n",
              "        document.querySelector('#' + key + ' button');\n",
              "      quickchartButtonEl.disabled = true;  // To prevent multiple clicks.\n",
              "      quickchartButtonEl.classList.add('colab-df-spinner');\n",
              "      try {\n",
              "        const charts = await google.colab.kernel.invokeFunction(\n",
              "            'suggestCharts', [key], {});\n",
              "      } catch (error) {\n",
              "        console.error('Error during call to suggestCharts:', error);\n",
              "      }\n",
              "      quickchartButtonEl.classList.remove('colab-df-spinner');\n",
              "      quickchartButtonEl.classList.add('colab-df-quickchart-complete');\n",
              "    }\n",
              "    (() => {\n",
              "      let quickchartButtonEl =\n",
              "        document.querySelector('#df-7ca03301-4d46-4bd4-ad93-f83c013c2eb7 button');\n",
              "      quickchartButtonEl.style.display =\n",
              "        google.colab.kernel.accessAllowed ? 'block' : 'none';\n",
              "    })();\n",
              "  </script>\n",
              "</div>\n",
              "\n",
              "    </div>\n",
              "  </div>\n"
            ],
            "application/vnd.google.colaboratory.intrinsic+json": {
              "type": "dataframe",
              "variable_name": "df",
              "summary": "{\n  \"name\": \"df\",\n  \"rows\": 24570,\n  \"fields\": [\n    {\n      \"column\": \"Country\",\n      \"properties\": {\n        \"dtype\": \"category\",\n        \"num_unique_values\": 195,\n        \"samples\": [\n          \"Qatar\",\n          \"Belgium\",\n          \"Sierra Leone\"\n        ],\n        \"semantic_type\": \"\",\n        \"description\": \"\"\n      }\n    },\n    {\n      \"column\": \"Year\",\n      \"properties\": {\n        \"dtype\": \"number\",\n        \"std\": 12,\n        \"min\": 1975,\n        \"max\": 2016,\n        \"num_unique_values\": 42,\n        \"samples\": [\n          2000,\n          1988,\n          1983\n        ],\n        \"semantic_type\": \"\",\n        \"description\": \"\"\n      }\n    },\n    {\n      \"column\": \"Obesity (%)\",\n      \"properties\": {\n        \"dtype\": \"string\",\n        \"num_unique_values\": 16375,\n        \"samples\": [\n          \"1.6 [0.8-2.7]\",\n          \"47.0 [41.1-52.9]\",\n          \"7.9 [5.3-10.9]\"\n        ],\n        \"semantic_type\": \"\",\n        \"description\": \"\"\n      }\n    },\n    {\n      \"column\": \"Sex\",\n      \"properties\": {\n        \"dtype\": \"category\",\n        \"num_unique_values\": 3,\n        \"samples\": [\n          \"Both sexes\",\n          \"Male\",\n          \"Female\"\n        ],\n        \"semantic_type\": \"\",\n        \"description\": \"\"\n      }\n    }\n  ]\n}"
            }
          },
          "metadata": {},
          "execution_count": 3
        }
      ]
    },
    {
      "cell_type": "code",
      "source": [
        "df.info()"
      ],
      "metadata": {
        "colab": {
          "base_uri": "https://localhost:8080/"
        },
        "id": "HeEZ6vJd_j_J",
        "outputId": "ed5348e8-d158-40ac-8d18-3fc50e8db517"
      },
      "id": "HeEZ6vJd_j_J",
      "execution_count": null,
      "outputs": [
        {
          "output_type": "stream",
          "name": "stdout",
          "text": [
            "<class 'pandas.core.frame.DataFrame'>\n",
            "Index: 24570 entries, 0 to 24569\n",
            "Data columns (total 4 columns):\n",
            " #   Column       Non-Null Count  Dtype \n",
            "---  ------       --------------  ----- \n",
            " 0   Country      24570 non-null  object\n",
            " 1   Year         24570 non-null  int64 \n",
            " 2   Obesity (%)  24570 non-null  object\n",
            " 3   Sex          24570 non-null  object\n",
            "dtypes: int64(1), object(3)\n",
            "memory usage: 959.8+ KB\n"
          ]
        }
      ]
    },
    {
      "cell_type": "markdown",
      "id": "divine-rebel",
      "metadata": {
        "id": "divine-rebel"
      },
      "source": [
        "- Limpe os dados do DataFrame, criando uma coluna de nome 'Obesity' que conterá os valores de obesidade. Transforme em float as colunas que porventura foram importadas como string."
      ]
    },
    {
      "cell_type": "code",
      "execution_count": null,
      "id": "cubic-minneapolis",
      "metadata": {
        "id": "cubic-minneapolis"
      },
      "outputs": [],
      "source": [
        "df['Year']=df['Year'].astype(int)"
      ]
    },
    {
      "cell_type": "code",
      "source": [
        "df.shape"
      ],
      "metadata": {
        "colab": {
          "base_uri": "https://localhost:8080/"
        },
        "id": "FSa8g-cunKi4",
        "outputId": "f73e2165-311d-4b42-9520-ca45b835b798"
      },
      "id": "FSa8g-cunKi4",
      "execution_count": null,
      "outputs": [
        {
          "output_type": "execute_result",
          "data": {
            "text/plain": [
              "(24570, 4)"
            ]
          },
          "metadata": {},
          "execution_count": 6
        }
      ]
    },
    {
      "cell_type": "code",
      "source": [
        "df['Obesity']=df['Obesity (%)'].str.split(' ').str[0]"
      ],
      "metadata": {
        "id": "MNKlnLLHDgdn"
      },
      "id": "MNKlnLLHDgdn",
      "execution_count": null,
      "outputs": []
    },
    {
      "cell_type": "code",
      "source": [
        "df=df[df['Obesity']!='No']"
      ],
      "metadata": {
        "id": "HShSH29J-GKt"
      },
      "id": "HShSH29J-GKt",
      "execution_count": null,
      "outputs": []
    },
    {
      "cell_type": "code",
      "source": [
        "df['Obesity']=df['Obesity'].dropna()"
      ],
      "metadata": {
        "id": "xtyqhjXNrbuC"
      },
      "id": "xtyqhjXNrbuC",
      "execution_count": null,
      "outputs": []
    },
    {
      "cell_type": "code",
      "source": [
        "df.drop(['Obesity (%)'],axis=1,inplace=True)"
      ],
      "metadata": {
        "id": "FWPNCtZ2jj_l"
      },
      "id": "FWPNCtZ2jj_l",
      "execution_count": null,
      "outputs": []
    },
    {
      "cell_type": "code",
      "source": [
        "df.shape"
      ],
      "metadata": {
        "colab": {
          "base_uri": "https://localhost:8080/"
        },
        "id": "FPW36rC1i9mV",
        "outputId": "f99106e9-3d8e-4d66-bb36-6549a6846091"
      },
      "id": "FPW36rC1i9mV",
      "execution_count": null,
      "outputs": [
        {
          "output_type": "execute_result",
          "data": {
            "text/plain": [
              "(24066, 4)"
            ]
          },
          "metadata": {},
          "execution_count": 11
        }
      ]
    },
    {
      "cell_type": "markdown",
      "id": "voluntary-temperature",
      "metadata": {
        "id": "voluntary-temperature"
      },
      "source": [
        "- Qual o percentual médio de obesidade por sexo no mundo no ano de 2015?"
      ]
    },
    {
      "cell_type": "code",
      "execution_count": null,
      "id": "afraid-reminder",
      "metadata": {
        "id": "afraid-reminder",
        "colab": {
          "base_uri": "https://localhost:8080/"
        },
        "outputId": "2ec9c528-9075-4dfc-8745-ff202b25371b"
      },
      "outputs": [
        {
          "output_type": "stream",
          "name": "stdout",
          "text": [
            "19.4628272251309\n"
          ]
        }
      ],
      "source": [
        "df_2015=df[df['Year']==2015]\n",
        "weights=[]\n",
        "for c in df_2015['Obesity']:\n",
        "  weights.append(float(c))\n",
        "print(sum(weights)/len(weights))"
      ]
    },
    {
      "cell_type": "code",
      "source": [
        "del df_2015['Year']\n",
        "del df_2015['Country']"
      ],
      "metadata": {
        "id": "cU_YkSwgspgo"
      },
      "id": "cU_YkSwgspgo",
      "execution_count": null,
      "outputs": []
    },
    {
      "cell_type": "code",
      "source": [
        "df_man=df_2015[df_2015['Sex']=='Male']\n",
        "df_woman=df_2015[df_2015['Sex']=='Female']"
      ],
      "metadata": {
        "id": "UzT5wRTq_Ts-"
      },
      "id": "UzT5wRTq_Ts-",
      "execution_count": null,
      "outputs": []
    },
    {
      "cell_type": "code",
      "source": [
        "df_man['Obesity']=df_man['Obesity'].astype(float)\n",
        "df_man['Obesity'].mean()"
      ],
      "metadata": {
        "colab": {
          "base_uri": "https://localhost:8080/"
        },
        "id": "rzuF5Ier_cPG",
        "outputId": "b0d82ab9-4c5e-4c00-ecbf-ce00a80316ee"
      },
      "id": "rzuF5Ier_cPG",
      "execution_count": null,
      "outputs": [
        {
          "output_type": "stream",
          "name": "stderr",
          "text": [
            "<ipython-input-15-ef5630e7e436>:1: SettingWithCopyWarning: \n",
            "A value is trying to be set on a copy of a slice from a DataFrame.\n",
            "Try using .loc[row_indexer,col_indexer] = value instead\n",
            "\n",
            "See the caveats in the documentation: https://pandas.pydata.org/pandas-docs/stable/user_guide/indexing.html#returning-a-view-versus-a-copy\n",
            "  df_man['Obesity']=df_man['Obesity'].astype(float)\n"
          ]
        },
        {
          "output_type": "execute_result",
          "data": {
            "text/plain": [
              "15.98062827225131"
            ]
          },
          "metadata": {},
          "execution_count": 15
        }
      ]
    },
    {
      "cell_type": "code",
      "source": [
        "df_woman['Obesity']=df_woman['Obesity'].astype(float)\n",
        "df_woman['Obesity'].mean()"
      ],
      "metadata": {
        "colab": {
          "base_uri": "https://localhost:8080/"
        },
        "id": "UnP1Gw_EAM6n",
        "outputId": "75ecf189-f88f-4ced-eff4-9a1138aab0c8"
      },
      "id": "UnP1Gw_EAM6n",
      "execution_count": null,
      "outputs": [
        {
          "output_type": "stream",
          "name": "stderr",
          "text": [
            "<ipython-input-16-961caab2e3d7>:1: SettingWithCopyWarning: \n",
            "A value is trying to be set on a copy of a slice from a DataFrame.\n",
            "Try using .loc[row_indexer,col_indexer] = value instead\n",
            "\n",
            "See the caveats in the documentation: https://pandas.pydata.org/pandas-docs/stable/user_guide/indexing.html#returning-a-view-versus-a-copy\n",
            "  df_woman['Obesity']=df_woman['Obesity'].astype(float)\n"
          ]
        },
        {
          "output_type": "execute_result",
          "data": {
            "text/plain": [
              "22.899476439790583"
            ]
          },
          "metadata": {},
          "execution_count": 16
        }
      ]
    },
    {
      "cell_type": "markdown",
      "id": "expected-kruger",
      "metadata": {
        "id": "expected-kruger"
      },
      "source": [
        "- Quais são os 5 países com a maior e a menor taxa de aumento nos índices de obesidade no período observado?"
      ]
    },
    {
      "cell_type": "code",
      "execution_count": null,
      "id": "phantom-going",
      "metadata": {
        "id": "phantom-going"
      },
      "outputs": [],
      "source": [
        "df_1975=df[df['Year']==1975]\n",
        "df_2016=df[df['Year']==2016]\n",
        "df_aux_1975=df_1975[df_1975['Sex']=='Both sexes']\n",
        "df_aux_2016=df_2016[df_2016['Sex']=='Both sexes']"
      ]
    },
    {
      "cell_type": "code",
      "source": [
        "df_aux_1975.head(\n",
        ")"
      ],
      "metadata": {
        "colab": {
          "base_uri": "https://localhost:8080/",
          "height": 206
        },
        "id": "OzG5h3125t-t",
        "outputId": "85e68ae8-36ce-4827-c317-4856a744d6f6"
      },
      "id": "OzG5h3125t-t",
      "execution_count": null,
      "outputs": [
        {
          "output_type": "execute_result",
          "data": {
            "text/plain": [
              "         Country  Year         Sex Obesity\n",
              "0    Afghanistan  1975  Both sexes     0.5\n",
              "126      Albania  1975  Both sexes     6.5\n",
              "252      Algeria  1975  Both sexes     6.9\n",
              "378      Andorra  1975  Both sexes    12.9\n",
              "504       Angola  1975  Both sexes     0.8"
            ],
            "text/html": [
              "\n",
              "  <div id=\"df-bd8e386c-f689-4077-8083-22a8da4d4875\" class=\"colab-df-container\">\n",
              "    <div>\n",
              "<style scoped>\n",
              "    .dataframe tbody tr th:only-of-type {\n",
              "        vertical-align: middle;\n",
              "    }\n",
              "\n",
              "    .dataframe tbody tr th {\n",
              "        vertical-align: top;\n",
              "    }\n",
              "\n",
              "    .dataframe thead th {\n",
              "        text-align: right;\n",
              "    }\n",
              "</style>\n",
              "<table border=\"1\" class=\"dataframe\">\n",
              "  <thead>\n",
              "    <tr style=\"text-align: right;\">\n",
              "      <th></th>\n",
              "      <th>Country</th>\n",
              "      <th>Year</th>\n",
              "      <th>Sex</th>\n",
              "      <th>Obesity</th>\n",
              "    </tr>\n",
              "  </thead>\n",
              "  <tbody>\n",
              "    <tr>\n",
              "      <th>0</th>\n",
              "      <td>Afghanistan</td>\n",
              "      <td>1975</td>\n",
              "      <td>Both sexes</td>\n",
              "      <td>0.5</td>\n",
              "    </tr>\n",
              "    <tr>\n",
              "      <th>126</th>\n",
              "      <td>Albania</td>\n",
              "      <td>1975</td>\n",
              "      <td>Both sexes</td>\n",
              "      <td>6.5</td>\n",
              "    </tr>\n",
              "    <tr>\n",
              "      <th>252</th>\n",
              "      <td>Algeria</td>\n",
              "      <td>1975</td>\n",
              "      <td>Both sexes</td>\n",
              "      <td>6.9</td>\n",
              "    </tr>\n",
              "    <tr>\n",
              "      <th>378</th>\n",
              "      <td>Andorra</td>\n",
              "      <td>1975</td>\n",
              "      <td>Both sexes</td>\n",
              "      <td>12.9</td>\n",
              "    </tr>\n",
              "    <tr>\n",
              "      <th>504</th>\n",
              "      <td>Angola</td>\n",
              "      <td>1975</td>\n",
              "      <td>Both sexes</td>\n",
              "      <td>0.8</td>\n",
              "    </tr>\n",
              "  </tbody>\n",
              "</table>\n",
              "</div>\n",
              "    <div class=\"colab-df-buttons\">\n",
              "\n",
              "  <div class=\"colab-df-container\">\n",
              "    <button class=\"colab-df-convert\" onclick=\"convertToInteractive('df-bd8e386c-f689-4077-8083-22a8da4d4875')\"\n",
              "            title=\"Convert this dataframe to an interactive table.\"\n",
              "            style=\"display:none;\">\n",
              "\n",
              "  <svg xmlns=\"http://www.w3.org/2000/svg\" height=\"24px\" viewBox=\"0 -960 960 960\">\n",
              "    <path d=\"M120-120v-720h720v720H120Zm60-500h600v-160H180v160Zm220 220h160v-160H400v160Zm0 220h160v-160H400v160ZM180-400h160v-160H180v160Zm440 0h160v-160H620v160ZM180-180h160v-160H180v160Zm440 0h160v-160H620v160Z\"/>\n",
              "  </svg>\n",
              "    </button>\n",
              "\n",
              "  <style>\n",
              "    .colab-df-container {\n",
              "      display:flex;\n",
              "      gap: 12px;\n",
              "    }\n",
              "\n",
              "    .colab-df-convert {\n",
              "      background-color: #E8F0FE;\n",
              "      border: none;\n",
              "      border-radius: 50%;\n",
              "      cursor: pointer;\n",
              "      display: none;\n",
              "      fill: #1967D2;\n",
              "      height: 32px;\n",
              "      padding: 0 0 0 0;\n",
              "      width: 32px;\n",
              "    }\n",
              "\n",
              "    .colab-df-convert:hover {\n",
              "      background-color: #E2EBFA;\n",
              "      box-shadow: 0px 1px 2px rgba(60, 64, 67, 0.3), 0px 1px 3px 1px rgba(60, 64, 67, 0.15);\n",
              "      fill: #174EA6;\n",
              "    }\n",
              "\n",
              "    .colab-df-buttons div {\n",
              "      margin-bottom: 4px;\n",
              "    }\n",
              "\n",
              "    [theme=dark] .colab-df-convert {\n",
              "      background-color: #3B4455;\n",
              "      fill: #D2E3FC;\n",
              "    }\n",
              "\n",
              "    [theme=dark] .colab-df-convert:hover {\n",
              "      background-color: #434B5C;\n",
              "      box-shadow: 0px 1px 3px 1px rgba(0, 0, 0, 0.15);\n",
              "      filter: drop-shadow(0px 1px 2px rgba(0, 0, 0, 0.3));\n",
              "      fill: #FFFFFF;\n",
              "    }\n",
              "  </style>\n",
              "\n",
              "    <script>\n",
              "      const buttonEl =\n",
              "        document.querySelector('#df-bd8e386c-f689-4077-8083-22a8da4d4875 button.colab-df-convert');\n",
              "      buttonEl.style.display =\n",
              "        google.colab.kernel.accessAllowed ? 'block' : 'none';\n",
              "\n",
              "      async function convertToInteractive(key) {\n",
              "        const element = document.querySelector('#df-bd8e386c-f689-4077-8083-22a8da4d4875');\n",
              "        const dataTable =\n",
              "          await google.colab.kernel.invokeFunction('convertToInteractive',\n",
              "                                                    [key], {});\n",
              "        if (!dataTable) return;\n",
              "\n",
              "        const docLinkHtml = 'Like what you see? Visit the ' +\n",
              "          '<a target=\"_blank\" href=https://colab.research.google.com/notebooks/data_table.ipynb>data table notebook</a>'\n",
              "          + ' to learn more about interactive tables.';\n",
              "        element.innerHTML = '';\n",
              "        dataTable['output_type'] = 'display_data';\n",
              "        await google.colab.output.renderOutput(dataTable, element);\n",
              "        const docLink = document.createElement('div');\n",
              "        docLink.innerHTML = docLinkHtml;\n",
              "        element.appendChild(docLink);\n",
              "      }\n",
              "    </script>\n",
              "  </div>\n",
              "\n",
              "\n",
              "<div id=\"df-872836eb-7d5c-444d-b958-986e2020073a\">\n",
              "  <button class=\"colab-df-quickchart\" onclick=\"quickchart('df-872836eb-7d5c-444d-b958-986e2020073a')\"\n",
              "            title=\"Suggest charts\"\n",
              "            style=\"display:none;\">\n",
              "\n",
              "<svg xmlns=\"http://www.w3.org/2000/svg\" height=\"24px\"viewBox=\"0 0 24 24\"\n",
              "     width=\"24px\">\n",
              "    <g>\n",
              "        <path d=\"M19 3H5c-1.1 0-2 .9-2 2v14c0 1.1.9 2 2 2h14c1.1 0 2-.9 2-2V5c0-1.1-.9-2-2-2zM9 17H7v-7h2v7zm4 0h-2V7h2v10zm4 0h-2v-4h2v4z\"/>\n",
              "    </g>\n",
              "</svg>\n",
              "  </button>\n",
              "\n",
              "<style>\n",
              "  .colab-df-quickchart {\n",
              "      --bg-color: #E8F0FE;\n",
              "      --fill-color: #1967D2;\n",
              "      --hover-bg-color: #E2EBFA;\n",
              "      --hover-fill-color: #174EA6;\n",
              "      --disabled-fill-color: #AAA;\n",
              "      --disabled-bg-color: #DDD;\n",
              "  }\n",
              "\n",
              "  [theme=dark] .colab-df-quickchart {\n",
              "      --bg-color: #3B4455;\n",
              "      --fill-color: #D2E3FC;\n",
              "      --hover-bg-color: #434B5C;\n",
              "      --hover-fill-color: #FFFFFF;\n",
              "      --disabled-bg-color: #3B4455;\n",
              "      --disabled-fill-color: #666;\n",
              "  }\n",
              "\n",
              "  .colab-df-quickchart {\n",
              "    background-color: var(--bg-color);\n",
              "    border: none;\n",
              "    border-radius: 50%;\n",
              "    cursor: pointer;\n",
              "    display: none;\n",
              "    fill: var(--fill-color);\n",
              "    height: 32px;\n",
              "    padding: 0;\n",
              "    width: 32px;\n",
              "  }\n",
              "\n",
              "  .colab-df-quickchart:hover {\n",
              "    background-color: var(--hover-bg-color);\n",
              "    box-shadow: 0 1px 2px rgba(60, 64, 67, 0.3), 0 1px 3px 1px rgba(60, 64, 67, 0.15);\n",
              "    fill: var(--button-hover-fill-color);\n",
              "  }\n",
              "\n",
              "  .colab-df-quickchart-complete:disabled,\n",
              "  .colab-df-quickchart-complete:disabled:hover {\n",
              "    background-color: var(--disabled-bg-color);\n",
              "    fill: var(--disabled-fill-color);\n",
              "    box-shadow: none;\n",
              "  }\n",
              "\n",
              "  .colab-df-spinner {\n",
              "    border: 2px solid var(--fill-color);\n",
              "    border-color: transparent;\n",
              "    border-bottom-color: var(--fill-color);\n",
              "    animation:\n",
              "      spin 1s steps(1) infinite;\n",
              "  }\n",
              "\n",
              "  @keyframes spin {\n",
              "    0% {\n",
              "      border-color: transparent;\n",
              "      border-bottom-color: var(--fill-color);\n",
              "      border-left-color: var(--fill-color);\n",
              "    }\n",
              "    20% {\n",
              "      border-color: transparent;\n",
              "      border-left-color: var(--fill-color);\n",
              "      border-top-color: var(--fill-color);\n",
              "    }\n",
              "    30% {\n",
              "      border-color: transparent;\n",
              "      border-left-color: var(--fill-color);\n",
              "      border-top-color: var(--fill-color);\n",
              "      border-right-color: var(--fill-color);\n",
              "    }\n",
              "    40% {\n",
              "      border-color: transparent;\n",
              "      border-right-color: var(--fill-color);\n",
              "      border-top-color: var(--fill-color);\n",
              "    }\n",
              "    60% {\n",
              "      border-color: transparent;\n",
              "      border-right-color: var(--fill-color);\n",
              "    }\n",
              "    80% {\n",
              "      border-color: transparent;\n",
              "      border-right-color: var(--fill-color);\n",
              "      border-bottom-color: var(--fill-color);\n",
              "    }\n",
              "    90% {\n",
              "      border-color: transparent;\n",
              "      border-bottom-color: var(--fill-color);\n",
              "    }\n",
              "  }\n",
              "</style>\n",
              "\n",
              "  <script>\n",
              "    async function quickchart(key) {\n",
              "      const quickchartButtonEl =\n",
              "        document.querySelector('#' + key + ' button');\n",
              "      quickchartButtonEl.disabled = true;  // To prevent multiple clicks.\n",
              "      quickchartButtonEl.classList.add('colab-df-spinner');\n",
              "      try {\n",
              "        const charts = await google.colab.kernel.invokeFunction(\n",
              "            'suggestCharts', [key], {});\n",
              "      } catch (error) {\n",
              "        console.error('Error during call to suggestCharts:', error);\n",
              "      }\n",
              "      quickchartButtonEl.classList.remove('colab-df-spinner');\n",
              "      quickchartButtonEl.classList.add('colab-df-quickchart-complete');\n",
              "    }\n",
              "    (() => {\n",
              "      let quickchartButtonEl =\n",
              "        document.querySelector('#df-872836eb-7d5c-444d-b958-986e2020073a button');\n",
              "      quickchartButtonEl.style.display =\n",
              "        google.colab.kernel.accessAllowed ? 'block' : 'none';\n",
              "    })();\n",
              "  </script>\n",
              "</div>\n",
              "\n",
              "    </div>\n",
              "  </div>\n"
            ],
            "application/vnd.google.colaboratory.intrinsic+json": {
              "type": "dataframe",
              "summary": "{\n  \"name\": \")\",\n  \"rows\": 5,\n  \"fields\": [\n    {\n      \"column\": \"Country\",\n      \"properties\": {\n        \"dtype\": \"string\",\n        \"num_unique_values\": 5,\n        \"samples\": [\n          \"Albania\",\n          \"Angola\",\n          \"Algeria\"\n        ],\n        \"semantic_type\": \"\",\n        \"description\": \"\"\n      }\n    },\n    {\n      \"column\": \"Year\",\n      \"properties\": {\n        \"dtype\": \"number\",\n        \"std\": 0,\n        \"min\": 1975,\n        \"max\": 1975,\n        \"num_unique_values\": 1,\n        \"samples\": [\n          1975\n        ],\n        \"semantic_type\": \"\",\n        \"description\": \"\"\n      }\n    },\n    {\n      \"column\": \"Sex\",\n      \"properties\": {\n        \"dtype\": \"category\",\n        \"num_unique_values\": 1,\n        \"samples\": [\n          \"Both sexes\"\n        ],\n        \"semantic_type\": \"\",\n        \"description\": \"\"\n      }\n    },\n    {\n      \"column\": \"Obesity\",\n      \"properties\": {\n        \"dtype\": \"string\",\n        \"num_unique_values\": 5,\n        \"samples\": [\n          \"6.5\"\n        ],\n        \"semantic_type\": \"\",\n        \"description\": \"\"\n      }\n    }\n  ]\n}"
            }
          },
          "metadata": {},
          "execution_count": 18
        }
      ]
    },
    {
      "cell_type": "code",
      "source": [
        "list_2016_names=[]\n",
        "list_1975_names=[]\n",
        "list_2016_obesities=[]\n",
        "list_1975_obesities=[]"
      ],
      "metadata": {
        "id": "XfY8ckQI2Ei1"
      },
      "id": "XfY8ckQI2Ei1",
      "execution_count": null,
      "outputs": []
    },
    {
      "cell_type": "code",
      "source": [
        "df_aux_1975['Obesity']=df_aux_1975['Obesity'].astype(float)\n",
        "df_aux_2016['Obesity']=df_aux_2016['Obesity'].astype(float)"
      ],
      "metadata": {
        "colab": {
          "base_uri": "https://localhost:8080/"
        },
        "id": "pD-zTos72OrD",
        "outputId": "7152a3e3-129d-4011-e327-95b5ca710a70"
      },
      "id": "pD-zTos72OrD",
      "execution_count": null,
      "outputs": [
        {
          "output_type": "stream",
          "name": "stderr",
          "text": [
            "<ipython-input-20-91193eb77117>:1: SettingWithCopyWarning: \n",
            "A value is trying to be set on a copy of a slice from a DataFrame.\n",
            "Try using .loc[row_indexer,col_indexer] = value instead\n",
            "\n",
            "See the caveats in the documentation: https://pandas.pydata.org/pandas-docs/stable/user_guide/indexing.html#returning-a-view-versus-a-copy\n",
            "  df_aux_1975['Obesity']=df_aux_1975['Obesity'].astype(float)\n",
            "<ipython-input-20-91193eb77117>:2: SettingWithCopyWarning: \n",
            "A value is trying to be set on a copy of a slice from a DataFrame.\n",
            "Try using .loc[row_indexer,col_indexer] = value instead\n",
            "\n",
            "See the caveats in the documentation: https://pandas.pydata.org/pandas-docs/stable/user_guide/indexing.html#returning-a-view-versus-a-copy\n",
            "  df_aux_2016['Obesity']=df_aux_2016['Obesity'].astype(float)\n"
          ]
        }
      ]
    },
    {
      "cell_type": "code",
      "source": [
        "for idx,row in df_aux_1975.iterrows():\n",
        "  list_1975_obesities.append(float(row['Obesity']))\n",
        "  list_1975_names.append((row['Country']))\n",
        "for idx,row in df_aux_2016.iterrows():\n",
        "  list_2016_obesities.append(float(row['Obesity']))\n",
        "  list_2016_names.append((row['Country']))"
      ],
      "metadata": {
        "id": "eLiL4WU7A_KQ"
      },
      "id": "eLiL4WU7A_KQ",
      "execution_count": null,
      "outputs": []
    },
    {
      "cell_type": "code",
      "source": [
        "c=0\n",
        "nations_diff=[]\n",
        "nations_diff2=[]\n",
        "for c in range(0,len(list_1975_obesities)):\n",
        "  print(list_1975_names[c],list_1975_obesities[c]-list_2016_obesities[c])\n",
        "  nations_diff.append(float(list_1975_obesities[c]-list_2016_obesities[c]))"
      ],
      "metadata": {
        "colab": {
          "base_uri": "https://localhost:8080/"
        },
        "id": "kbN5u7wG4iIx",
        "outputId": "0750c7c8-5454-47a9-e762-444c59336c12"
      },
      "id": "kbN5u7wG4iIx",
      "execution_count": null,
      "outputs": [
        {
          "output_type": "stream",
          "name": "stdout",
          "text": [
            "Afghanistan -5.0\n",
            "Albania -15.2\n",
            "Algeria -20.5\n",
            "Andorra -12.700000000000001\n",
            "Angola -7.3999999999999995\n",
            "Antigua and Barbuda -13.299999999999999\n",
            "Argentina -17.1\n",
            "Armenia -12.899999999999999\n",
            "Australia -18.5\n",
            "Austria -12.900000000000002\n",
            "Azerbaijan -13.499999999999998\n",
            "Bahamas -19.6\n",
            "Bahrain -15.600000000000001\n",
            "Bangladesh -3.4\n",
            "Barbados -15.400000000000002\n",
            "Belarus -14.6\n",
            "Belgium -11.600000000000001\n",
            "Belize -15.3\n",
            "Benin -8.5\n",
            "Bhutan -6.0\n",
            "Bolivia (Plurinational State of) -15.399999999999999\n",
            "Bosnia and Herzegovina -11.999999999999998\n",
            "Botswana -16.099999999999998\n",
            "Brazil -16.900000000000002\n",
            "Brunei Darussalam -11.5\n",
            "Bulgaria -14.9\n",
            "Burkina Faso -5.199999999999999\n",
            "Burundi -4.800000000000001\n",
            "Cabo Verde -10.700000000000001\n",
            "Cambodia -3.6\n",
            "Cameroon -10.1\n",
            "Canada -19.599999999999998\n",
            "Central African Republic -6.3\n",
            "Chad -5.3999999999999995\n",
            "Chile -16.8\n",
            "China -5.7\n",
            "Colombia -15.700000000000001\n",
            "Comoros -6.6\n",
            "Congo -8.1\n",
            "Cook Islands -27.9\n",
            "Costa Rica -20.5\n",
            "Croatia -15.2\n",
            "Cuba -16.8\n",
            "Cyprus -16.3\n",
            "Czechia -12.2\n",
            "Côte d'Ivoire -8.9\n",
            "Democratic People's Republic of Korea -5.0\n",
            "Democratic Republic of the Congo -5.8\n",
            "Denmark -12.5\n",
            "Djibouti -9.5\n",
            "Dominica -21.299999999999997\n",
            "Dominican Republic -21.8\n",
            "Ecuador -14.899999999999999\n",
            "Egypt -20.0\n",
            "El Salvador -18.8\n",
            "Equatorial Guinea -6.7\n",
            "Eritrea -4.4\n",
            "Estonia -8.5\n",
            "Eswatini -12.9\n",
            "Ethiopia -4.0\n",
            "Fiji -20.7\n",
            "Finland -15.299999999999999\n",
            "France -12.8\n",
            "Gabon -13.2\n",
            "Gambia -9.4\n",
            "Georgia -15.2\n",
            "Germany -13.3\n",
            "Ghana -9.4\n",
            "Greece -15.099999999999998\n",
            "Grenada -15.4\n",
            "Guatemala -16.1\n",
            "Guinea -6.8\n",
            "Guinea-Bissau -8.6\n",
            "Guyana -15.1\n",
            "Haiti -19.5\n",
            "Honduras -17.099999999999998\n",
            "Hungary -13.799999999999999\n",
            "Iceland -13.499999999999998\n",
            "India -3.6\n",
            "Indonesia -6.5\n",
            "Iran (Islamic Republic of) -19.3\n",
            "Iraq -19.0\n",
            "Ireland -18.9\n",
            "Israel -13.200000000000001\n",
            "Italy -11.499999999999998\n",
            "Jamaica -17.799999999999997\n",
            "Japan -3.3\n",
            "Jordan -23.2\n",
            "Kazakhstan -14.3\n",
            "Kenya -6.3\n",
            "Kiribati -30.1\n",
            "Kuwait -19.299999999999997\n",
            "Kyrgyzstan -12.100000000000001\n",
            "Lao People's Democratic Republic -5.0\n",
            "Latvia -10.200000000000001\n",
            "Lebanon -20.9\n",
            "Lesotho -13.000000000000002\n",
            "Liberia -8.6\n",
            "Libya -22.2\n",
            "Lithuania -13.4\n",
            "Luxembourg -14.700000000000001\n",
            "Madagascar -4.8\n",
            "Malawi -5.1\n",
            "Malaysia -14.2\n",
            "Maldives -8.1\n",
            "Mali -7.699999999999999\n",
            "Malta -13.299999999999999\n",
            "Marshall Islands -25.9\n",
            "Mauritania -11.5\n",
            "Mauritius -7.800000000000001\n",
            "Mexico -19.4\n",
            "Micronesia (Federated States of) -26.9\n",
            "Mongolia -15.8\n",
            "Montenegro -17.200000000000003\n",
            "Morocco -19.6\n",
            "Mozambique -6.5\n",
            "Myanmar -5.3\n",
            "Namibia -13.799999999999999\n",
            "Nauru -16.5\n",
            "Nepal -3.8\n",
            "Netherlands -14.899999999999999\n",
            "New Zealand -19.9\n",
            "Nicaragua -16.7\n",
            "Niger -4.8\n",
            "Nigeria -8.0\n",
            "Niue -31.1\n",
            "Norway -15.700000000000001\n",
            "Oman -21.9\n",
            "Pakistan -7.6\n",
            "Palau -26.999999999999996\n",
            "Panama -16.7\n",
            "Papua New Guinea -16.3\n",
            "Paraguay -16.1\n",
            "Peru -13.399999999999999\n",
            "Philippines -5.7\n",
            "Poland -12.400000000000002\n",
            "Portugal -15.4\n",
            "Qatar -19.3\n",
            "Republic of Korea -4.1000000000000005\n",
            "Republic of Moldova -11.399999999999999\n",
            "Republic of North Macedonia -13.2\n",
            "Romania -14.2\n",
            "Russian Federation -9.200000000000001\n",
            "Rwanda -5.3\n",
            "Saint Kitts and Nevis -16.5\n",
            "Saint Lucia -14.6\n",
            "Saint Vincent and the Grenadines -18.0\n",
            "Samoa -27.099999999999998\n",
            "Sao Tome and Principe -10.9\n",
            "Saudi Arabia -24.599999999999998\n",
            "Senegal -7.4\n",
            "Serbia -13.6\n",
            "Seychelles -10.7\n",
            "Sierra Leone -7.499999999999999\n",
            "Singapore -3.0999999999999996\n",
            "Slovakia -12.6\n",
            "Slovenia -12.399999999999999\n",
            "Solomon Islands -17.7\n",
            "Somalia -7.1000000000000005\n",
            "South Africa -18.3\n",
            "Spain -14.100000000000001\n",
            "Sri Lanka -4.6000000000000005\n",
            "Sudan (former) -7.6\n",
            "Suriname -18.9\n",
            "Sweden -12.700000000000001\n",
            "Switzerland -14.5\n",
            "Syrian Arab Republic -19.3\n",
            "Tajikistan -10.1\n",
            "Thailand -9.2\n",
            "Timor-Leste -3.5999999999999996\n",
            "Togo -7.300000000000001\n",
            "Tonga -28.300000000000004\n",
            "Trinidad and Tobago -14.8\n",
            "Tunisia -19.4\n",
            "Turkey -23.5\n",
            "Turkmenistan -13.000000000000002\n",
            "Tuvalu -33.7\n",
            "Uganda -4.7\n",
            "Ukraine -11.8\n",
            "United Arab Emirates -18.0\n",
            "United Kingdom of Great Britain and Northern Ireland -18.4\n",
            "United Republic of Tanzania -7.5\n",
            "United States of America -24.300000000000004\n",
            "Uruguay -16.5\n",
            "Uzbekistan -12.200000000000001\n",
            "Vanuatu -19.6\n",
            "Venezuela (Bolivarian Republic of) -16.0\n",
            "Viet Nam -2.0\n",
            "Yemen -14.3\n",
            "Zambia -6.6\n",
            "Zimbabwe -11.8\n"
          ]
        }
      ]
    },
    {
      "cell_type": "code",
      "source": [
        "sorted(nations_diff)\n",
        "#Maiores: Tuvalu, Niue, Kirib, Tonga e Cook Islands\n",
        "#Menores: Vietnã, Cingapura, Japão, Bangladesh e Timor Leste"
      ],
      "metadata": {
        "colab": {
          "base_uri": "https://localhost:8080/"
        },
        "id": "zLz638Ou9Nl2",
        "outputId": "d57daea1-db36-4f0f-96fc-84f24f37ffeb"
      },
      "id": "zLz638Ou9Nl2",
      "execution_count": null,
      "outputs": [
        {
          "output_type": "execute_result",
          "data": {
            "text/plain": [
              "[-33.7,\n",
              " -31.1,\n",
              " -30.1,\n",
              " -28.300000000000004,\n",
              " -27.9,\n",
              " -27.099999999999998,\n",
              " -26.999999999999996,\n",
              " -26.9,\n",
              " -25.9,\n",
              " -24.599999999999998,\n",
              " -24.300000000000004,\n",
              " -23.5,\n",
              " -23.2,\n",
              " -22.2,\n",
              " -21.9,\n",
              " -21.8,\n",
              " -21.299999999999997,\n",
              " -20.9,\n",
              " -20.7,\n",
              " -20.5,\n",
              " -20.5,\n",
              " -20.0,\n",
              " -19.9,\n",
              " -19.6,\n",
              " -19.6,\n",
              " -19.6,\n",
              " -19.599999999999998,\n",
              " -19.5,\n",
              " -19.4,\n",
              " -19.4,\n",
              " -19.3,\n",
              " -19.3,\n",
              " -19.3,\n",
              " -19.299999999999997,\n",
              " -19.0,\n",
              " -18.9,\n",
              " -18.9,\n",
              " -18.8,\n",
              " -18.5,\n",
              " -18.4,\n",
              " -18.3,\n",
              " -18.0,\n",
              " -18.0,\n",
              " -17.799999999999997,\n",
              " -17.7,\n",
              " -17.200000000000003,\n",
              " -17.1,\n",
              " -17.099999999999998,\n",
              " -16.900000000000002,\n",
              " -16.8,\n",
              " -16.8,\n",
              " -16.7,\n",
              " -16.7,\n",
              " -16.5,\n",
              " -16.5,\n",
              " -16.5,\n",
              " -16.3,\n",
              " -16.3,\n",
              " -16.1,\n",
              " -16.1,\n",
              " -16.099999999999998,\n",
              " -16.0,\n",
              " -15.8,\n",
              " -15.700000000000001,\n",
              " -15.700000000000001,\n",
              " -15.600000000000001,\n",
              " -15.400000000000002,\n",
              " -15.4,\n",
              " -15.4,\n",
              " -15.399999999999999,\n",
              " -15.3,\n",
              " -15.299999999999999,\n",
              " -15.2,\n",
              " -15.2,\n",
              " -15.2,\n",
              " -15.1,\n",
              " -15.099999999999998,\n",
              " -14.9,\n",
              " -14.899999999999999,\n",
              " -14.899999999999999,\n",
              " -14.8,\n",
              " -14.700000000000001,\n",
              " -14.6,\n",
              " -14.6,\n",
              " -14.5,\n",
              " -14.3,\n",
              " -14.3,\n",
              " -14.2,\n",
              " -14.2,\n",
              " -14.100000000000001,\n",
              " -13.799999999999999,\n",
              " -13.799999999999999,\n",
              " -13.6,\n",
              " -13.499999999999998,\n",
              " -13.499999999999998,\n",
              " -13.4,\n",
              " -13.399999999999999,\n",
              " -13.3,\n",
              " -13.299999999999999,\n",
              " -13.299999999999999,\n",
              " -13.200000000000001,\n",
              " -13.2,\n",
              " -13.2,\n",
              " -13.000000000000002,\n",
              " -13.000000000000002,\n",
              " -12.900000000000002,\n",
              " -12.9,\n",
              " -12.899999999999999,\n",
              " -12.8,\n",
              " -12.700000000000001,\n",
              " -12.700000000000001,\n",
              " -12.6,\n",
              " -12.5,\n",
              " -12.400000000000002,\n",
              " -12.399999999999999,\n",
              " -12.200000000000001,\n",
              " -12.2,\n",
              " -12.100000000000001,\n",
              " -11.999999999999998,\n",
              " -11.8,\n",
              " -11.8,\n",
              " -11.600000000000001,\n",
              " -11.5,\n",
              " -11.5,\n",
              " -11.499999999999998,\n",
              " -11.399999999999999,\n",
              " -10.9,\n",
              " -10.700000000000001,\n",
              " -10.7,\n",
              " -10.200000000000001,\n",
              " -10.1,\n",
              " -10.1,\n",
              " -9.5,\n",
              " -9.4,\n",
              " -9.4,\n",
              " -9.200000000000001,\n",
              " -9.2,\n",
              " -8.9,\n",
              " -8.6,\n",
              " -8.6,\n",
              " -8.5,\n",
              " -8.5,\n",
              " -8.1,\n",
              " -8.1,\n",
              " -8.0,\n",
              " -7.800000000000001,\n",
              " -7.699999999999999,\n",
              " -7.6,\n",
              " -7.6,\n",
              " -7.5,\n",
              " -7.499999999999999,\n",
              " -7.4,\n",
              " -7.3999999999999995,\n",
              " -7.300000000000001,\n",
              " -7.1000000000000005,\n",
              " -6.8,\n",
              " -6.7,\n",
              " -6.6,\n",
              " -6.6,\n",
              " -6.5,\n",
              " -6.5,\n",
              " -6.3,\n",
              " -6.3,\n",
              " -6.0,\n",
              " -5.8,\n",
              " -5.7,\n",
              " -5.7,\n",
              " -5.3999999999999995,\n",
              " -5.3,\n",
              " -5.3,\n",
              " -5.199999999999999,\n",
              " -5.1,\n",
              " -5.0,\n",
              " -5.0,\n",
              " -5.0,\n",
              " -4.800000000000001,\n",
              " -4.8,\n",
              " -4.8,\n",
              " -4.7,\n",
              " -4.6000000000000005,\n",
              " -4.4,\n",
              " -4.1000000000000005,\n",
              " -4.0,\n",
              " -3.8,\n",
              " -3.6,\n",
              " -3.6,\n",
              " -3.5999999999999996,\n",
              " -3.4,\n",
              " -3.3,\n",
              " -3.0999999999999996,\n",
              " -2.0]"
            ]
          },
          "metadata": {},
          "execution_count": 23
        }
      ]
    },
    {
      "cell_type": "markdown",
      "id": "efficient-buyer",
      "metadata": {
        "id": "efficient-buyer"
      },
      "source": [
        "- Quais os países com maiores e menores níveis percetuais de obesidade em 2015?"
      ]
    },
    {
      "cell_type": "code",
      "source": [
        "df_2015=df[df['Year']==2015]"
      ],
      "metadata": {
        "id": "026tmDqyBSU8"
      },
      "id": "026tmDqyBSU8",
      "execution_count": null,
      "outputs": []
    },
    {
      "cell_type": "code",
      "source": [
        "df_2015=df_2015[df_2015['Sex']=='Both sexes']"
      ],
      "metadata": {
        "id": "7Sy1rLevHbXa"
      },
      "id": "7Sy1rLevHbXa",
      "execution_count": null,
      "outputs": []
    },
    {
      "cell_type": "code",
      "source": [
        "df_2015['Obesity']=df_2015['Obesity'].astype(float)"
      ],
      "metadata": {
        "id": "6YwhhwXSDG2M"
      },
      "id": "6YwhhwXSDG2M",
      "execution_count": null,
      "outputs": []
    },
    {
      "cell_type": "code",
      "source": [
        "obesities=[]\n",
        "countries=[]\n",
        "for c in df_2015['Obesity']:\n",
        "  obesities.append(c)\n",
        "for c in df_2015['Country']:\n",
        "  countries.append(c)"
      ],
      "metadata": {
        "id": "NzhTPqwyDFEj"
      },
      "id": "NzhTPqwyDFEj",
      "execution_count": null,
      "outputs": []
    },
    {
      "cell_type": "code",
      "source": [
        "top5=sorted(obesities)[-3:]"
      ],
      "metadata": {
        "id": "V6rzxeomAgBK"
      },
      "id": "V6rzxeomAgBK",
      "execution_count": null,
      "outputs": []
    },
    {
      "cell_type": "code",
      "source": [
        "top5"
      ],
      "metadata": {
        "colab": {
          "base_uri": "https://localhost:8080/"
        },
        "id": "3aiS8BenAoK3",
        "outputId": "ad66d8cf-af39-42b3-ef77-d66eee2ac823"
      },
      "id": "3aiS8BenAoK3",
      "execution_count": null,
      "outputs": [
        {
          "output_type": "execute_result",
          "data": {
            "text/plain": [
              "[54.8, 55.4, 60.7]"
            ]
          },
          "metadata": {},
          "execution_count": 162
        }
      ]
    },
    {
      "cell_type": "code",
      "source": [
        "top5_countries=[]\n",
        "for c in top5:\n",
        "  top5_countries.append(countries[obesities.index(c)])"
      ],
      "metadata": {
        "id": "XwSLauhJArsN"
      },
      "id": "XwSLauhJArsN",
      "execution_count": null,
      "outputs": []
    },
    {
      "cell_type": "code",
      "source": [
        "top5_countries"
      ],
      "metadata": {
        "colab": {
          "base_uri": "https://localhost:8080/"
        },
        "id": "8nbtpVGbAwWq",
        "outputId": "5dbf840a-af98-4cb8-d620-0fdef0c66d36"
      },
      "id": "8nbtpVGbAwWq",
      "execution_count": null,
      "outputs": [
        {
          "output_type": "execute_result",
          "data": {
            "text/plain": [
              "['Palau', 'Cook Islands', 'Nauru']"
            ]
          },
          "metadata": {},
          "execution_count": 164
        }
      ]
    },
    {
      "cell_type": "code",
      "source": [
        "top5=sorted(obesities)[:3]"
      ],
      "metadata": {
        "id": "jV6HFcsJAzWK"
      },
      "id": "jV6HFcsJAzWK",
      "execution_count": null,
      "outputs": []
    },
    {
      "cell_type": "code",
      "source": [
        "top5"
      ],
      "metadata": {
        "colab": {
          "base_uri": "https://localhost:8080/"
        },
        "id": "LflB9hz2A7Eh",
        "outputId": "d8463eec-3c8f-48b8-f490-a768b7df5a98"
      },
      "id": "LflB9hz2A7Eh",
      "execution_count": null,
      "outputs": [
        {
          "output_type": "execute_result",
          "data": {
            "text/plain": [
              "[2.0, 3.4, 3.6]"
            ]
          },
          "metadata": {},
          "execution_count": 166
        }
      ]
    },
    {
      "cell_type": "code",
      "source": [
        "top5_countries=[]\n",
        "for c in top5:\n",
        "  if c not in top5_countries:\n",
        "   top5_countries.append(countries[obesities.index(c)])"
      ],
      "metadata": {
        "id": "QiDqaBPfA87k"
      },
      "id": "QiDqaBPfA87k",
      "execution_count": null,
      "outputs": []
    },
    {
      "cell_type": "code",
      "source": [],
      "metadata": {
        "id": "6W5m5NunA__f"
      },
      "id": "6W5m5NunA__f",
      "execution_count": null,
      "outputs": []
    },
    {
      "cell_type": "code",
      "source": [
        "top5_countries # menos obesidade"
      ],
      "metadata": {
        "colab": {
          "base_uri": "https://localhost:8080/"
        },
        "id": "CNL7XMbnFanx",
        "outputId": "4e0ede51-731b-4c61-dd87-aa486c663d13"
      },
      "id": "CNL7XMbnFanx",
      "execution_count": null,
      "outputs": [
        {
          "output_type": "execute_result",
          "data": {
            "text/plain": [
              "['Viet Nam', 'Bangladesh', 'Timor-Leste']"
            ]
          },
          "metadata": {},
          "execution_count": 168
        }
      ]
    },
    {
      "cell_type": "markdown",
      "id": "average-holiday",
      "metadata": {
        "id": "average-holiday"
      },
      "source": [
        "- Qual a diferença média percentual de obesidade entre sexos ao longo dos anos para o Brasil?"
      ]
    },
    {
      "cell_type": "code",
      "execution_count": null,
      "id": "later-occurrence",
      "metadata": {
        "id": "later-occurrence",
        "colab": {
          "base_uri": "https://localhost:8080/"
        },
        "outputId": "eb675d9f-c217-4f21-b56b-d74413f18b73"
      },
      "outputs": [
        {
          "output_type": "stream",
          "name": "stdout",
          "text": [
            "Média dos homens: 9.671428571428573\n",
            "Média das mulheres: 15.849999999999998\n",
            "Diferença: 6.178571428571425\n"
          ]
        }
      ],
      "source": [
        "df_brasil=df[df['Country']=='Brazil']\n",
        "man=[]\n",
        "woman=[]\n",
        "for idx,row in df_brasil.iterrows():\n",
        "  if row['Sex']=='Male':\n",
        "    man.append(float(row['Obesity']))\n",
        "  elif row['Sex']=='Female':\n",
        "    woman.append(float(row['Obesity']))\n",
        "print(f'Média dos homens: {sum(man)/len(man)}')\n",
        "print(f'Média das mulheres: {sum(woman)/len(woman)}')\n",
        "man_avg=sum(man)/len(man)\n",
        "woman_avg=sum(woman)/len(woman)\n",
        "print(f'Diferença: {woman_avg-man_avg}')"
      ]
    },
    {
      "cell_type": "markdown",
      "id": "rising-exhaust",
      "metadata": {
        "id": "rising-exhaust"
      },
      "source": [
        "- Você conseguiria plotar um gráfico mostrando a evolução da obesidade para ambos sexos no mundo?"
      ]
    },
    {
      "cell_type": "code",
      "execution_count": null,
      "id": "senior-recruitment",
      "metadata": {
        "id": "senior-recruitment",
        "colab": {
          "base_uri": "https://localhost:8080/"
        },
        "outputId": "6efbfc1c-4194-4c83-8c6b-3b0185019057"
      },
      "outputs": [
        {
          "output_type": "stream",
          "name": "stderr",
          "text": [
            "<ipython-input-331-c1057c038754>:7: SettingWithCopyWarning: \n",
            "A value is trying to be set on a copy of a slice from a DataFrame.\n",
            "Try using .loc[row_indexer,col_indexer] = value instead\n",
            "\n",
            "See the caveats in the documentation: https://pandas.pydata.org/pandas-docs/stable/user_guide/indexing.html#returning-a-view-versus-a-copy\n",
            "  df_2016_both_sexes['Obesity']=df_2016_both_sexes['Obesity'].astype(float)\n",
            "<ipython-input-331-c1057c038754>:8: SettingWithCopyWarning: \n",
            "A value is trying to be set on a copy of a slice from a DataFrame.\n",
            "Try using .loc[row_indexer,col_indexer] = value instead\n",
            "\n",
            "See the caveats in the documentation: https://pandas.pydata.org/pandas-docs/stable/user_guide/indexing.html#returning-a-view-versus-a-copy\n",
            "  df_1975_both_sexes['Obesity']=df_1975_both_sexes['Obesity'].astype(float)\n"
          ]
        }
      ],
      "source": [
        "list_1975=[]\n",
        "list_2016=[]\n",
        "\n",
        "df_2016_both_sexes=df_2016[df_2016['Sex']=='Both sexes']\n",
        "df_1975_both_sexes=df_1975[df_1975['Sex']=='Both sexes']\n",
        "\n",
        "df_2016_both_sexes['Obesity']=df_2016_both_sexes['Obesity'].astype(float)\n",
        "df_1975_both_sexes['Obesity']=df_1975_both_sexes['Obesity'].astype(float)\n",
        "\n",
        "\n",
        "for c in df_2016_both_sexes['Obesity']:\n",
        "  list_2016.append(c)\n",
        "for c in df_1975_both_sexes['Obesity']:\n",
        "  list_1975.append(c)"
      ]
    },
    {
      "cell_type": "code",
      "source": [
        "avg_1975=sum(list_1975)/len(list_1975)\n",
        "avg_2016=sum(list_2016)/len(list_2016)\n",
        "avg_both=[float(avg_1975),float(avg_2016)]"
      ],
      "metadata": {
        "id": "0Ipm-4lirr97"
      },
      "id": "0Ipm-4lirr97",
      "execution_count": null,
      "outputs": []
    },
    {
      "cell_type": "code",
      "source": [
        "import matplotlib.pyplot as plt\n",
        "import numpy as np\n",
        "\n",
        "x = np.array(['1975','2016'])\n",
        "y = np.array([avg_1975,avg_2016])\n",
        "\n",
        "plt.bar(x,y,color = \"#4CAF50\")\n",
        "plt.show()\n"
      ],
      "metadata": {
        "colab": {
          "base_uri": "https://localhost:8080/",
          "height": 430
        },
        "id": "RK3DSTVtwblH",
        "outputId": "05c60fc4-9cfb-4592-bc0f-64c4806c0f13"
      },
      "id": "RK3DSTVtwblH",
      "execution_count": null,
      "outputs": [
        {
          "output_type": "display_data",
          "data": {
            "text/plain": [
              "<Figure size 640x480 with 1 Axes>"
            ],
            "image/png": "[encoded data removed]"
          },
          "metadata": {}
        }
      ]
    },
    {
      "cell_type": "code",
      "execution_count": null,
      "id": "fluid-enemy",
      "metadata": {
        "id": "fluid-enemy"
      },
      "outputs": [],
      "source": []
    }
  ],
  "metadata": {
    "kernelspec": {
      "display_name": "Python 3",
      "language": "python",
      "name": "python3"
    },
    "language_info": {
      "codemirror_mode": {
        "name": "ipython",
        "version": 3
      },
      "file_extension": ".py",
      "mimetype": "text/x-python",
      "name": "python",
      "nbconvert_exporter": "python",
      "pygments_lexer": "ipython3",
      "version": "3.9.12"
    },
    "colab": {
      "provenance": []
    }
  },
  "nbformat": 4,
  "nbformat_minor": 5
}